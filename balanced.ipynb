{
 "cells": [
  {
   "cell_type": "code",
   "execution_count": 8,
   "id": "24689ddb",
   "metadata": {},
   "outputs": [],
   "source": [
    "import pandas as pd\n",
    "import numpy as np\n",
    "import matplotlib.pyplot as plt\n",
    "import seaborn as sns   \n",
    "\n",
    "from imblearn.over_sampling import SMOTE, RandomOverSampler, ADASYN, BorderlineSMOTE\n",
    "from imblearn.under_sampling import RandomUnderSampler, NearMiss, ClusterCentroids, TomekLinks\n",
    "\n",
    "from sklearn.model_selection import train_test_split\n",
    "from sklearn.preprocessing import OneHotEncoder, StandardScaler\n",
    "from sklearn.metrics import classification_report, accuracy_score, roc_auc_score\n",
    "\n",
    "from sklearn.linear_model import LogisticRegression\n",
    "from sklearn.ensemble import RandomForestClassifier, GradientBoostingClassifier, AdaBoostClassifier\n",
    "from sklearn.tree import DecisionTreeClassifier\n",
    "from sklearn.svm import SVC\n",
    "from sklearn.neighbors import KNeighborsClassifier\n",
    "from sklearn.naive_bayes import GaussianNB\n",
    "\n",
    "import xgboost as xgb\n",
    "import lightgbm as lgb\n",
    "import catboost as cb\n",
    "\n",
    "train_encoded = pd.read_csv('train_encoded.csv')\n",
    "test_encoded = pd.read_csv('test_encoded.csv')"
   ]
  },
  {
   "cell_type": "code",
   "execution_count": 9,
   "id": "c4b66a73",
   "metadata": {},
   "outputs": [],
   "source": [
    "# drop 'ReimbursementDeductibleRatio' column from both train and test datasets\n",
    "train_encoded.drop(columns='ReimbursementDeductibleRatio', inplace=True)\n",
    "test_encoded.drop(columns='ReimbursementDeductibleRatio', inplace=True)"
   ]
  },
  {
   "cell_type": "code",
   "execution_count": 10,
   "id": "6492b9da",
   "metadata": {},
   "outputs": [],
   "source": [
    "# features and target\n",
    "X = train_encoded.drop('PotentialFraud', axis=1)\n",
    "y = train_encoded['PotentialFraud']"
   ]
  },
  {
   "cell_type": "code",
   "execution_count": 11,
   "id": "23db38d8",
   "metadata": {},
   "outputs": [],
   "source": [
    "# sampling techniques\n",
    "sampling_methods = {\n",
    "    \"SMOTE\": SMOTE(random_state=42),\n",
    "    \"RandomOverSampler\": RandomOverSampler(random_state=42),\n",
    "    \"ADASYN\": ADASYN(random_state=42),\n",
    "    \"BorderlineSMOTE\": BorderlineSMOTE(random_state=42),\n",
    "    \"RandomUnderSampler\": RandomUnderSampler(random_state=42),\n",
    "    \"NearMiss\": NearMiss(),\n",
    "    \"ClusterCentroids\": ClusterCentroids(random_state=42),\n",
    "    \"TomekLinks\": TomekLinks()\n",
    "}"
   ]
  },
  {
   "cell_type": "code",
   "execution_count": 12,
   "id": "7dc589d3",
   "metadata": {},
   "outputs": [],
   "source": [
    "# classifiers\n",
    "models = {\n",
    "    \"LogisticRegression\": LogisticRegression(max_iter=1000),\n",
    "    \"DecisionTree\": DecisionTreeClassifier(),\n",
    "    \"RandomForest\": RandomForestClassifier(),\n",
    "    \"GradientBoosting\": GradientBoostingClassifier(),\n",
    "    \"AdaBoost\": AdaBoostClassifier(),\n",
    "    \"SVM\": SVC(probability=True),\n",
    "    \"KNN\": KNeighborsClassifier(),\n",
    "    \"NaiveBayes\": GaussianNB(),\n",
    "    \"XGBoost\": xgb.XGBClassifier(use_label_encoder=False, eval_metric='logloss'),\n",
    "    \"LightGBM\": lgb.LGBMClassifier(),\n",
    "    \"CatBoost\": cb.CatBoostClassifier(verbose=0)\n",
    "}"
   ]
  },
  {
   "cell_type": "code",
   "execution_count": 13,
   "id": "f1edeaf2",
   "metadata": {},
   "outputs": [],
   "source": [
    "# evaluation\n",
    "def evaluate_model(X, y, sampler, model, model_name, sampler_name):\n",
    "    X_resampled, y_resampled = sampler.fit_resample(X, y)\n",
    "    \n",
    "    X_train, X_val, y_train, y_val = train_test_split(\n",
    "        X_resampled, y_resampled, test_size=0.2, random_state=42)\n",
    "    \n",
    "    model.fit(X_train, y_train)\n",
    "    y_pred = model.predict(X_val)\n",
    "    y_prob = model.predict_proba(X_val)[:, 1] if hasattr(model, 'predict_proba') else None\n",
    "\n",
    "    result = {\n",
    "        \"Model\": model_name,\n",
    "        \"Sampler\": sampler_name,\n",
    "        \"Accuracy\": accuracy_score(y_val, y_pred),\n",
    "        \"ROC_AUC\": roc_auc_score(y_val, y_prob) if y_prob is not None else None,\n",
    "        \"Report\": classification_report(y_val, y_pred, output_dict=True)\n",
    "    }\n",
    "    return result"
   ]
  },
  {
   "cell_type": "code",
   "execution_count": null,
   "id": "77660d1e",
   "metadata": {},
   "outputs": [
    {
     "name": "stdout",
     "output_type": "stream",
     "text": [
      "Training LogisticRegression with SMOTE\n"
     ]
    }
   ],
   "source": [
    "results = []\n",
    "for sampler_name, sampler in sampling_methods.items():\n",
    "    for model_name, model in models.items():\n",
    "        print(f\"Training {model_name} with {sampler_name}\")\n",
    "        result = evaluate_model(X, y, sampler, model, model_name, sampler_name)\n",
    "        results.append(result)\n",
    "\n",
    "# convert to df for summary\n",
    "summary = pd.DataFrame(results)\n",
    "summary[['Model', 'Sampler', 'Accuracy', 'ROC_AUC']]"
   ]
  }
 ],
 "metadata": {
  "kernelspec": {
   "display_name": "Python 3",
   "language": "python",
   "name": "python3"
  },
  "language_info": {
   "codemirror_mode": {
    "name": "ipython",
    "version": 3
   },
   "file_extension": ".py",
   "mimetype": "text/x-python",
   "name": "python",
   "nbconvert_exporter": "python",
   "pygments_lexer": "ipython3",
   "version": "3.12.7"
  }
 },
 "nbformat": 4,
 "nbformat_minor": 5
}
