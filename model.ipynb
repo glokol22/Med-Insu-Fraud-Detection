{
 "cells": [
  {
   "cell_type": "code",
   "execution_count": 1,
   "id": "a1f0c362",
   "metadata": {},
   "outputs": [],
   "source": [
    "import pandas as pd\n",
    "import numpy as np\n",
    "\n",
    "from imblearn.over_sampling import SMOTE, RandomOverSampler, ADASYN, BorderlineSMOTE\n",
    "from imblearn.under_sampling import RandomUnderSampler, NearMiss, ClusterCentroids, TomekLinks\n",
    "from sklearn.model_selection import train_test_split\n",
    "from sklearn.metrics import classification_report, accuracy_score, roc_auc_score\n",
    "from sklearn.linear_model import LogisticRegression\n",
    "from sklearn.ensemble import RandomForestClassifier, GradientBoostingClassifier, AdaBoostClassifier, BaggingClassifier, ExtraTreesClassifier\n",
    "from sklearn.svm import SVC\n",
    "from sklearn.neighbors import KNeighborsClassifier\n",
    "from sklearn.naive_bayes import GaussianNB\n",
    "import xgboost as xgb\n",
    "import lightgbm as lgb\n",
    "import catboost as cb\n",
    "from sklearn.tree import DecisionTreeClassifier\n",
    "from sklearn.model_selection import train_test_split\n",
    "from sklearn.preprocessing import OneHotEncoder, StandardScaler\n",
    "from sklearn.compose import ColumnTransformer\n",
    "from imblearn.over_sampling import SMOTE, RandomOverSampler, ADASYN, BorderlineSMOTE, SVMSMOTE\n",
    "from sklearn.linear_model import LogisticRegression\n",
    "from sklearn.ensemble import RandomForestClassifier, GradientBoostingClassifier\n",
    "from sklearn.svm import SVC\n",
    "from sklearn.neighbors import KNeighborsClassifier\n",
    "from xgboost import XGBClassifier\n",
    "from catboost import CatBoostClassifier\n",
    "from sklearn.metrics import classification_report, accuracy_score\n",
    "\n",
    "\n",
    "train_encoded = pd.read_csv('train_encoded.csv')\n",
    "test_encoded = pd.read_csv('test_encoded.csv')"
   ]
  },
  {
   "cell_type": "code",
   "execution_count": 2,
   "id": "3bc513e7",
   "metadata": {},
   "outputs": [
    {
     "name": "stdout",
     "output_type": "stream",
     "text": [
      "Remaining columns to encode: set()\n"
     ]
    }
   ],
   "source": [
    "# Check for non-numeric columns in train and test\n",
    "non_numeric_train = train_encoded.select_dtypes(include=['object', 'category']).columns\n",
    "non_numeric_test = test_encoded.select_dtypes(include=['object', 'category']).columns\n",
    "\n",
    "# Combine to see any remaining unique ones\n",
    "remaining_to_encode = set(non_numeric_train).union(set(non_numeric_test))\n",
    "\n",
    "print(\"Remaining columns to encode:\", remaining_to_encode)"
   ]
  },
  {
   "cell_type": "code",
   "execution_count": 3,
   "id": "0e682235",
   "metadata": {},
   "outputs": [
    {
     "name": "stdout",
     "output_type": "stream",
     "text": [
      "   PotentialFraud   Count  Percentage\n",
      "0               0  345024    61.90859\n",
      "1               1  212288    38.09141\n"
     ]
    }
   ],
   "source": [
    "import pandas as pd\n",
    "\n",
    "# Calculate the class distribution\n",
    "class_distribution = train_encoded['PotentialFraud'].value_counts().reset_index()\n",
    "class_distribution.columns = ['PotentialFraud', 'Count']\n",
    "\n",
    "# Calculate the percentage of each class\n",
    "class_distribution['Percentage'] = (class_distribution['Count'] / class_distribution['Count'].sum()) * 100\n",
    "\n",
    "# Display the table\n",
    "print(class_distribution)"
   ]
  },
  {
   "cell_type": "code",
   "execution_count": 4,
   "id": "b77d1c95",
   "metadata": {},
   "outputs": [
    {
     "data": {
      "image/png": "[encoded data removed]",
      "text/plain": [
       "<Figure size 800x600 with 1 Axes>"
      ]
     },
     "metadata": {},
     "output_type": "display_data"
    }
   ],
   "source": [
    "import matplotlib.pyplot as plt\n",
    "import seaborn as sns\n",
    "\n",
    "# Plotting the class distribution\n",
    "plt.figure(figsize=(8,6))\n",
    "sns.countplot(x='PotentialFraud', data=train_encoded, hue='PotentialFraud', palette='pastel', legend=False)\n",
    "plt.title('Class Distribution of PotentialFraud', fontsize=10, fontname='Consolas')\n",
    "plt.xlabel('PotentialFraud', fontsize=10, fontname='Consolas')\n",
    "plt.ylabel('Count', fontsize=10, fontname='Consolas')\n",
    "\n",
    "# Customize tick parameters\n",
    "plt.xticks(fontsize=10, fontname='Consolas')\n",
    "plt.yticks(fontsize=10, fontname='Consolas')\n",
    "\n",
    "# Show plot\n",
    "plt.show()"
   ]
  },
  {
   "cell_type": "code",
   "execution_count": 5,
   "id": "9af575f1",
   "metadata": {},
   "outputs": [],
   "source": [
    "import numpy as np\n",
    "import pandas as pd\n",
    "\n",
    "def check_dataset_issues(dataset, dataset_name=\"Dataset\"):\n",
    "  \n",
    "    # Check for NaN, Inf, and Negative values in the dataset\n",
    "    issues = {\n",
    "        'NaN Values': dataset.isna().sum(),\n",
    "        'Inf Values': np.isinf(dataset).sum(),\n",
    "        'Negative Values': (dataset < 0).sum()\n",
    "    }\n",
    "    \n",
    "    # Create a DataFrame of the issues\n",
    "    issues_df = pd.DataFrame(issues)\n",
    "    \n",
    "    # Filter columns with any issues\n",
    "    issues_df = issues_df[issues_df.sum(axis=1) > 0]\n",
    "    \n",
    "    # Transpose for better readability\n",
    "    issues_df = issues_df.T\n",
    "    \n",
    "    # Display the results\n",
    "    print(f\"\\n{dataset_name} Issues:\")\n",
    "    display(issues_df)\n",
    "    return issues_df"
   ]
  },
  {
   "cell_type": "code",
   "execution_count": 6,
   "id": "41329103",
   "metadata": {},
   "outputs": [
    {
     "name": "stdout",
     "output_type": "stream",
     "text": [
      "\n",
      "Train Dataset Issues:\n"
     ]
    },
    {
     "data": {
      "text/html": [
       "<div>\n",
       "<style scoped>\n",
       "    .dataframe tbody tr th:only-of-type {\n",
       "        vertical-align: middle;\n",
       "    }\n",
       "\n",
       "    .dataframe tbody tr th {\n",
       "        vertical-align: top;\n",
       "    }\n",
       "\n",
       "    .dataframe thead th {\n",
       "        text-align: right;\n",
       "    }\n",
       "</style>\n",
       "<table border=\"1\" class=\"dataframe\">\n",
       "  <thead>\n",
       "    <tr style=\"text-align: right;\">\n",
       "      <th></th>\n",
       "      <th>IPAnnualReimbursementAmt</th>\n",
       "      <th>OPAnnualReimbursementAmt</th>\n",
       "      <th>ReimbursementDeductibleRatio</th>\n",
       "    </tr>\n",
       "  </thead>\n",
       "  <tbody>\n",
       "    <tr>\n",
       "      <th>NaN Values</th>\n",
       "      <td>0</td>\n",
       "      <td>0</td>\n",
       "      <td>18665</td>\n",
       "    </tr>\n",
       "    <tr>\n",
       "      <th>Inf Values</th>\n",
       "      <td>0</td>\n",
       "      <td>0</td>\n",
       "      <td>478036</td>\n",
       "    </tr>\n",
       "    <tr>\n",
       "      <th>Negative Values</th>\n",
       "      <td>57</td>\n",
       "      <td>15</td>\n",
       "      <td>0</td>\n",
       "    </tr>\n",
       "  </tbody>\n",
       "</table>\n",
       "</div>"
      ],
      "text/plain": [
       "                 IPAnnualReimbursementAmt  OPAnnualReimbursementAmt  \\\n",
       "NaN Values                              0                         0   \n",
       "Inf Values                              0                         0   \n",
       "Negative Values                        57                        15   \n",
       "\n",
       "                 ReimbursementDeductibleRatio  \n",
       "NaN Values                              18665  \n",
       "Inf Values                             478036  \n",
       "Negative Values                             0  "
      ]
     },
     "metadata": {},
     "output_type": "display_data"
    }
   ],
   "source": [
    "# Check issues in train dataset\n",
    "train_issues = check_dataset_issues(train_encoded, \"Train Dataset\")"
   ]
  },
  {
   "cell_type": "code",
   "execution_count": 7,
   "id": "c07103ab",
   "metadata": {},
   "outputs": [
    {
     "name": "stdout",
     "output_type": "stream",
     "text": [
      "\n",
      "Test Dataset Issues:\n"
     ]
    },
    {
     "data": {
      "text/html": [
       "<div>\n",
       "<style scoped>\n",
       "    .dataframe tbody tr th:only-of-type {\n",
       "        vertical-align: middle;\n",
       "    }\n",
       "\n",
       "    .dataframe tbody tr th {\n",
       "        vertical-align: top;\n",
       "    }\n",
       "\n",
       "    .dataframe thead th {\n",
       "        text-align: right;\n",
       "    }\n",
       "</style>\n",
       "<table border=\"1\" class=\"dataframe\">\n",
       "  <thead>\n",
       "    <tr style=\"text-align: right;\">\n",
       "      <th></th>\n",
       "      <th>IPAnnualReimbursementAmt</th>\n",
       "      <th>OPAnnualReimbursementAmt</th>\n",
       "      <th>ReimbursementDeductibleRatio</th>\n",
       "    </tr>\n",
       "  </thead>\n",
       "  <tbody>\n",
       "    <tr>\n",
       "      <th>NaN Values</th>\n",
       "      <td>0</td>\n",
       "      <td>0</td>\n",
       "      <td>4458</td>\n",
       "    </tr>\n",
       "    <tr>\n",
       "      <th>Inf Values</th>\n",
       "      <td>0</td>\n",
       "      <td>0</td>\n",
       "      <td>116253</td>\n",
       "    </tr>\n",
       "    <tr>\n",
       "      <th>Negative Values</th>\n",
       "      <td>11</td>\n",
       "      <td>4</td>\n",
       "      <td>0</td>\n",
       "    </tr>\n",
       "  </tbody>\n",
       "</table>\n",
       "</div>"
      ],
      "text/plain": [
       "                 IPAnnualReimbursementAmt  OPAnnualReimbursementAmt  \\\n",
       "NaN Values                              0                         0   \n",
       "Inf Values                              0                         0   \n",
       "Negative Values                        11                         4   \n",
       "\n",
       "                 ReimbursementDeductibleRatio  \n",
       "NaN Values                               4458  \n",
       "Inf Values                             116253  \n",
       "Negative Values                             0  "
      ]
     },
     "metadata": {},
     "output_type": "display_data"
    }
   ],
   "source": [
    "# Check issues in test dataset\n",
    "test_issues = check_dataset_issues(test_encoded, \"Test Dataset\")"
   ]
  },
  {
   "cell_type": "code",
   "execution_count": 8,
   "id": "ebc2171f",
   "metadata": {},
   "outputs": [],
   "source": [
    "# Drop 'ReimbursementDeductibleRatio' column from both train and test datasets\n",
    "train_encoded.drop(columns='ReimbursementDeductibleRatio', inplace=True)\n",
    "test_encoded.drop(columns='ReimbursementDeductibleRatio', inplace=True)"
   ]
  },
  {
   "cell_type": "code",
   "execution_count": 9,
   "id": "5d2d165c",
   "metadata": {},
   "outputs": [],
   "source": [
    "# Define target and features\n",
    "X = train_encoded.drop(columns='PotentialFraud')\n",
    "y = train_encoded['PotentialFraud']\n",
    "\n",
    "\n",
    "X_train, X_test, y_train, y_test = train_test_split(X, y, test_size=0.2, random_state=42, stratify=y)"
   ]
  },
  {
   "cell_type": "code",
   "execution_count": null,
   "id": "42d3df93",
   "metadata": {},
   "outputs": [],
   "source": [
    "# Scale the features to avoid convergence issues with some models\n",
    "scaler = StandardScaler()\n",
    "X_train_scaled = scaler.fit_transform(X_train)\n",
    "X_test_scaled = scaler.transform(X_test)\n",
    "\n",
    "# Define balancing techniques\n",
    "smote = SMOTE(random_state=42)\n",
    "ros = RandomOverSampler(random_state=42)\n",
    "adasyn = ADASYN(random_state=42)\n",
    "borderline_smote = BorderlineSMOTE(random_state=42)\n",
    "svm_smote = SVMSMOTE(random_state=42)\n",
    "\n",
    "# Apply each balancing technique\n",
    "X_train_smote, y_train_smote = smote.fit_resample(X_train_scaled, y_train)\n",
    "X_train_ros, y_train_ros = ros.fit_resample(X_train_scaled, y_train)\n",
    "X_train_adasyn, y_train_adasyn = adasyn.fit_resample(X_train_scaled, y_train)\n",
    "X_train_borderline_smote, y_train_borderline_smote = borderline_smote.fit_resample(X_train_scaled, y_train)\n",
    "X_train_svm_smote, y_train_svm_smote = svm_smote.fit_resample(X_train_scaled, y_train)"
   ]
  },
  {
   "cell_type": "code",
   "execution_count": 11,
   "id": "ed405b2a",
   "metadata": {},
   "outputs": [],
   "source": [
    "# Apply each balancing technique\n",
    "X_train_smote, y_train_smote = smote.fit_resample(X_train, y_train)"
   ]
  },
  {
   "cell_type": "code",
   "execution_count": 12,
   "id": "6b5238be",
   "metadata": {},
   "outputs": [],
   "source": [
    "X_train_ros, y_train_ros = ros.fit_resample(X_train, y_train)"
   ]
  },
  {
   "cell_type": "code",
   "execution_count": null,
   "id": "15f68fb0",
   "metadata": {},
   "outputs": [],
   "source": [
    "X_train_adasyn, y_train_adasyn = adasyn.fit_resample(X_train, y_train)"
   ]
  },
  {
   "cell_type": "code",
   "execution_count": null,
   "id": "52d9c438",
   "metadata": {},
   "outputs": [],
   "source": [
    "X_train_borderline_smote, y_train_borderline_smote = borderline_smote.fit_resample(X_train, y_train)"
   ]
  },
  {
   "cell_type": "code",
   "execution_count": null,
   "id": "88d71e9c",
   "metadata": {},
   "outputs": [],
   "source": [
    "X_train_svm_smote, y_train_svm_smote = svm_smote.fit_resample(X_train, y_train)"
   ]
  },
  {
   "cell_type": "code",
   "execution_count": null,
   "id": "52584d11",
   "metadata": {},
   "outputs": [],
   "source": [
    "# Apply different resampling techniques\n",
    "resamplers = {\n",
    "    'SMOTE': (X_train_smote, y_train_smote),\n",
    "    'Random OverSampling': (X_train_ros, y_train_ros),\n",
    "    'ADASYN': (X_train_adasyn, y_train_adasyn),\n",
    "    'Borderline SMOTE': (X_train_borderline_smote, y_train_borderline_smote),\n",
    "    'SVM SMOTE': (X_train_svm_smote, y_train_svm_smote)\n",
    "}"
   ]
  },
  {
   "cell_type": "code",
   "execution_count": null,
   "id": "f36ae6ab",
   "metadata": {},
   "outputs": [],
   "source": [
    "# Define models to evaluate\n",
    "models = {\n",
    "    'Logistic Regression': LogisticRegression(),\n",
    "    'KNN': KNeighborsClassifier(),\n",
    "    'Random Forest': RandomForestClassifier(),\n",
    "    'Gradient Boosting': GradientBoostingClassifier(),\n",
    "    'Naive Bayes': GaussianNB(),\n",
    "    'XGBoost': xgb.XGBClassifier(),\n",
    "    'LightGBM': lgb.LGBMClassifier(),\n",
    "    'CatBoost': cb.CatBoostClassifier(silent=True),\n",
    "    'Decision Tree': DecisionTreeClassifier(),\n",
    "    'AdaBoost': AdaBoostClassifier(),\n",
    "}"
   ]
  },
  {
   "cell_type": "code",
   "execution_count": 12,
   "id": "01d42f89",
   "metadata": {},
   "outputs": [],
   "source": [
    "# evaluate models\n",
    "def evaluate_model(X_train, y_train, X_test, y_test, model_name, model, sampler_name=None, sampler=None):\n",
    "    if sampler:\n",
    "        X_res, y_res = sampler.fit_resample(X_train, y_train)\n",
    "    else:\n",
    "        X_res, y_res = X_train, y_train\n",
    "    \n",
    "    model.fit(X_res, y_res)\n",
    "    \n",
    "    y_pred = model.predict(X_test)\n",
    "    accuracy = accuracy_score(y_test, y_pred)\n",
    "    roc_auc = roc_auc_score(y_test, y_pred)\n",
    "    report = classification_report(y_test, y_pred)\n",
    "    \n",
    "    print(f\"Model: {model_name}\")\n",
    "    if sampler_name:\n",
    "        print(f\"Using: {sampler_name} resampling\")\n",
    "    print(f\"Accuracy: {accuracy}\")\n",
    "    print(f\"ROC AUC: {roc_auc}\")\n",
    "    print(f\"Classification Report:\\n{report}\")\n",
    "    print(\"-\" * 50)"
   ]
  },
  {
   "cell_type": "code",
   "execution_count": null,
   "id": "4612e579",
   "metadata": {},
   "outputs": [
    {
     "name": "stdout",
     "output_type": "stream",
     "text": [
      "\n",
      "--------------------------------------------------\n",
      "Evaluating Logistic Regression with RandomUnderSampler resampling technique\n",
      "--------------------------------------------------\n"
     ]
    },
    {
     "name": "stderr",
     "output_type": "stream",
     "text": [
      "c:\\Users\\Administrator\\AppData\\Local\\Programs\\Python\\Python312\\Lib\\site-packages\\sklearn\\linear_model\\_logistic.py:465: ConvergenceWarning: lbfgs failed to converge (status=1):\n",
      "STOP: TOTAL NO. OF ITERATIONS REACHED LIMIT.\n",
      "\n",
      "Increase the number of iterations (max_iter) or scale the data as shown in:\n",
      "    https://scikit-learn.org/stable/modules/preprocessing.html\n",
      "Please also refer to the documentation for alternative solver options:\n",
      "    https://scikit-learn.org/stable/modules/linear_model.html#logistic-regression\n",
      "  n_iter_i = _check_optimize_result(\n"
     ]
    },
    {
     "name": "stdout",
     "output_type": "stream",
     "text": [
      "Model: Logistic Regression\n",
      "Using: RandomUnderSampler resampling\n",
      "Accuracy: 0.7930344598656056\n",
      "ROC AUC: 0.7771454116381642\n",
      "Classification Report:\n",
      "              precision    recall  f1-score   support\n",
      "\n",
      "           0       0.83      0.84      0.83     68998\n",
      "           1       0.74      0.71      0.72     42465\n",
      "\n",
      "    accuracy                           0.79    111463\n",
      "   macro avg       0.78      0.78      0.78    111463\n",
      "weighted avg       0.79      0.79      0.79    111463\n",
      "\n",
      "--------------------------------------------------\n",
      "--------------------------------------------------\n",
      "\n",
      "--------------------------------------------------\n",
      "Evaluating KNN with RandomUnderSampler resampling technique\n",
      "--------------------------------------------------\n",
      "Model: KNN\n",
      "Using: RandomUnderSampler resampling\n",
      "Accuracy: 0.6313485192395683\n",
      "ROC AUC: 0.6200551742648934\n",
      "Classification Report:\n",
      "              precision    recall  f1-score   support\n",
      "\n",
      "           0       0.72      0.67      0.69     68998\n",
      "           1       0.51      0.57      0.54     42465\n",
      "\n",
      "    accuracy                           0.63    111463\n",
      "   macro avg       0.62      0.62      0.62    111463\n",
      "weighted avg       0.64      0.63      0.63    111463\n",
      "\n",
      "--------------------------------------------------\n",
      "--------------------------------------------------\n",
      "\n",
      "--------------------------------------------------\n",
      "Evaluating Random Forest with RandomUnderSampler resampling technique\n",
      "--------------------------------------------------\n",
      "Model: Random Forest\n",
      "Using: RandomUnderSampler resampling\n",
      "Accuracy: 0.9498667719332873\n",
      "ROC AUC: 0.9402175782200578\n",
      "Classification Report:\n",
      "              precision    recall  f1-score   support\n",
      "\n",
      "           0       0.94      0.98      0.96     68998\n",
      "           1       0.97      0.90      0.93     42465\n",
      "\n",
      "    accuracy                           0.95    111463\n",
      "   macro avg       0.95      0.94      0.95    111463\n",
      "weighted avg       0.95      0.95      0.95    111463\n",
      "\n",
      "--------------------------------------------------\n",
      "--------------------------------------------------\n",
      "\n",
      "--------------------------------------------------\n",
      "Evaluating Gradient Boosting with RandomUnderSampler resampling technique\n",
      "--------------------------------------------------\n"
     ]
    }
   ],
   "source": [
    "from tqdm import tqdm\n",
    "from sklearn.metrics import accuracy_score, classification_report\n",
    "from sklearn.exceptions import ConvergenceWarning\n",
    "import warnings\n",
    "\n",
    "# Suppress convergence warnings to avoid clutter\n",
    "warnings.filterwarnings(\"ignore\", category=ConvergenceWarning)\n",
    "\n",
    "# Evaluate each model on every balanced dataset\n",
    "print(\"🔍 Starting model evaluation on all balanced datasets...\\n\")\n",
    "\n",
    "# Loop through all resampling techniques\n",
    "for technique_name, (X_bal, y_bal) in tqdm(resamplers.items(), desc=\"Resampling Techniques\", unit=\"technique\"):\n",
    "    print(f\"\\n📊 Evaluating Models for: {technique_name}\\n{'-'*50}\")\n",
    "\n",
    "    # Loop through all models\n",
    "    for model_name, model in models.items():\n",
    "        print(f\"\\n➡️ Training model: {model_name}\")\n",
    "\n",
    "        # Try training the model with exception handling\n",
    "        try:\n",
    "            # Train the model on the balanced dataset\n",
    "            model.fit(X_bal, y_bal)\n",
    "\n",
    "            # Predict using the test set\n",
    "            y_pred = model.predict(X_test_scaled)\n",
    "\n",
    "            # Calculate accuracy\n",
    "            acc = accuracy_score(y_test, y_pred)\n",
    "            print(f\"✅ Accuracy: {acc:.4f}\")\n",
    "\n",
    "            # Display detailed classification report\n",
    "            print(f\"\\n📝 Classification Report for {model_name}:\\n\")\n",
    "            print(classification_report(y_test, y_pred))\n",
    "        \n",
    "        except ConvergenceWarning:\n",
    "            print(f\"⚠️ WARNING: The model did not converge for {model_name} using {technique_name}. Consider increasing max_iter or scaling the data.\")\n",
    "\n",
    "print(\"\\n✅ All model evaluations complete.\")\n"
   ]
  },
  {
   "cell_type": "code",
   "execution_count": null,
   "id": "7245be2c",
   "metadata": {},
   "outputs": [],
   "source": [
    "# Evaluate without balancing as a baseline\n",
    "for model_name, model in models.items():\n",
    "    evaluate_model(X_train, y_train, X_test, y_test, model_name, model)"
   ]
  }
 ],
 "metadata": {
  "kernelspec": {
   "display_name": "Python 3",
   "language": "python",
   "name": "python3"
  },
  "language_info": {
   "codemirror_mode": {
    "name": "ipython",
    "version": 3
   },
   "file_extension": ".py",
   "mimetype": "text/x-python",
   "name": "python",
   "nbconvert_exporter": "python",
   "pygments_lexer": "ipython3",
   "version": "3.12.7"
  }
 },
 "nbformat": 4,
 "nbformat_minor": 5
}
