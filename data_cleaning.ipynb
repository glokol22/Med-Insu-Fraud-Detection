{
 "cells": [
  {
   "cell_type": "markdown",
   "metadata": {},
   "source": [
    "##### Libraries"
   ]
  },
  {
   "cell_type": "code",
   "execution_count": 1,
   "metadata": {},
   "outputs": [],
   "source": [
    "import numpy as np  # for numerical operations.\n",
    "\n",
    "import pandas as pd  # for manipulation and analysis.\n",
    "\n",
    "import seaborn as sns # for visualization.\n",
    "\n",
    "import matplotlib.pyplot as plt # for visualization.\n",
    "\n",
    "from sklearn.preprocessing import LabelEncoder # for encoding categorical variables.\n",
    "\n",
    "from sklearn.preprocessing import StandardScaler # for standardizing numerical variables.\n",
    "\n",
    "from sklearn.impute import SimpleImputer # for imputing missing values.\n",
    "\n",
    "from sklearn.pipeline import make_pipeline # for creating pipelines.\n",
    "\n",
    "from sklearn.linear_model import LogisticRegression # for logistic regression.\n",
    "\n",
    "from sklearn.model_selection import train_test_split # for splitting data into training and testing sets.\n",
    "\n",
    "from sklearn.ensemble import RandomForestClassifier # for random forest classifier.\n",
    "\n",
    "from sklearn.metrics import classification_report, roc_auc_score # for evaluating model performance.\n",
    "\n",
    "from xgboost import XGBClassifier # for XGBoost classifier.\n",
    "\n",
    "from sklearn.model_selection import StratifiedKFold, cross_val_score # for cross-validation.\n",
    "\n",
    "from sklearn.metrics import make_scorer, f1_score # for calculating F1 score.\n",
    "\n",
    "import lightgbm as lgb # for LightGBM classifier.\n",
    "\n",
    "from sklearn.metrics import confusion_matrix, ConfusionMatrixDisplay # for confusion matrix.\n",
    "\n",
    "from sklearn.metrics import precision_recall_curve, average_precision_score # for precision-recall curve."
   ]
  },
  {
   "cell_type": "markdown",
   "metadata": {},
   "source": [
    "##### Loading datasets"
   ]
  },
  {
   "cell_type": "code",
   "execution_count": 2,
   "metadata": {},
   "outputs": [
    {
     "name": "stdout",
     "output_type": "stream",
     "text": [
      "Path to dataset files: C:\\Users\\Administrator\\.cache\\kagglehub\\datasets\\rohitrox\\healthcare-provider-fraud-detection-analysis\\versions\\1\n",
      "\n",
      "Files in the dataset:\n",
      "- Test-1542969243754.csv\n",
      "- Test_Beneficiarydata-1542969243754.csv\n",
      "- Test_Inpatientdata-1542969243754.csv\n",
      "- Test_Outpatientdata-1542969243754.csv\n",
      "- Train-1542865627584.csv\n",
      "- Train_Beneficiarydata-1542865627584.csv\n",
      "- Train_Inpatientdata-1542865627584.csv\n",
      "- Train_Outpatientdata-1542865627584.csv\n"
     ]
    }
   ],
   "source": [
    "import kagglehub\n",
    "import os\n",
    "\n",
    "# Download the latest version of the dataset\n",
    "path = kagglehub.dataset_download(\"rohitrox/healthcare-provider-fraud-detection-analysis\")\n",
    "\n",
    "# Print the dataset path\n",
    "print(\"Path to dataset files:\", path)\n",
    "\n",
    "# List files inside the dataset directory\n",
    "print(\"\\nFiles in the dataset:\")\n",
    "for file in os.listdir(path):\n",
    "    print(\"-\", file)"
   ]
  },
  {
   "cell_type": "code",
   "execution_count": 3,
   "metadata": {},
   "outputs": [],
   "source": [
    "# Set dataset path\n",
    "dataset_path = r\"C:\\Users\\Administrator\\.cache\\kagglehub\\datasets\\rohitrox\\healthcare-provider-fraud-detection-analysis\\versions\\1\"\n",
    "\n",
    "# Load Train Dataset\n",
    "Train_Provider = pd.read_csv(os.path.join(dataset_path, 'Train-1542865627584.csv'))\n",
    "Train_Beneficiarydata = pd.read_csv(os.path.join(dataset_path, 'Train_Beneficiarydata-1542865627584.csv'))\n",
    "Train_Inpatientdata = pd.read_csv(os.path.join(dataset_path, 'Train_Inpatientdata-1542865627584.csv'))\n",
    "Train_Outpatientdata = pd.read_csv(os.path.join(dataset_path, 'Train_Outpatientdata-1542865627584.csv'))\n",
    "\n",
    "# Load Test Dataset\n",
    "Test_Provider = pd.read_csv(os.path.join(dataset_path, 'Test-1542969243754.csv'))\n",
    "Test_Beneficiarydata = pd.read_csv(os.path.join(dataset_path, 'Test_Beneficiarydata-1542969243754.csv'))\n",
    "Test_Inpatientdata = pd.read_csv(os.path.join(dataset_path, 'Test_Inpatientdata-1542969243754.csv'))\n",
    "Test_Outpatientdata = pd.read_csv(os.path.join(dataset_path, 'Test_Outpatientdata-1542969243754.csv'))"
   ]
  },
  {
   "cell_type": "markdown",
   "metadata": {},
   "source": [
    "##### Shape of the datasets"
   ]
  },
  {
   "cell_type": "code",
   "execution_count": 4,
   "metadata": {},
   "outputs": [
    {
     "name": "stdout",
     "output_type": "stream",
     "text": [
      "========================================\n",
      "           Train Data Shapes            \n",
      "========================================\n",
      "Train_Provider            : (5410, 2)\n",
      "Train_Beneficiarydata     : (138556, 25)\n",
      "Train_Inpatientdata       : (40474, 30)\n",
      "Train_Outpatientdata      : (517737, 27)\n",
      "========================================\n",
      "========================================\n",
      "            Test Data Shapes            \n",
      "========================================\n",
      "Test_Provider             : (1353, 1)\n",
      "Test_Beneficiarydata      : (63968, 25)\n",
      "Test_Inpatientdata        : (9551, 30)\n",
      "Test_Outpatientdata       : (125841, 27)\n",
      "========================================\n"
     ]
    }
   ],
   "source": [
    "def print_data_shapes(*dataframes, title=\"Data Shapes\"):\n",
    "    print(\"=\"*40)\n",
    "    print(title.center(40))\n",
    "    print(\"=\"*40)\n",
    "    for df_name, df in dataframes:\n",
    "        print(f\"{df_name:<25} : {df.shape}\")\n",
    "    print(\"=\"*40)\n",
    "\n",
    "# Before merging\n",
    "print_data_shapes(\n",
    "    (\"Train_Provider\", Train_Provider),\n",
    "    (\"Train_Beneficiarydata\", Train_Beneficiarydata),\n",
    "    (\"Train_Inpatientdata\", Train_Inpatientdata),\n",
    "    (\"Train_Outpatientdata\", Train_Outpatientdata),\n",
    "    title=\"Train Data Shapes\"\n",
    ")\n",
    "\n",
    "print_data_shapes(\n",
    "    (\"Test_Provider\", Test_Provider),\n",
    "    (\"Test_Beneficiarydata\", Test_Beneficiarydata),\n",
    "    (\"Test_Inpatientdata\", Test_Inpatientdata),\n",
    "    (\"Test_Outpatientdata\", Test_Outpatientdata),\n",
    "    title=\"Test Data Shapes\"\n",
    ")"
   ]
  },
  {
   "cell_type": "code",
   "execution_count": 5,
   "metadata": {},
   "outputs": [
    {
     "name": "stdout",
     "output_type": "stream",
     "text": [
      "========================================\n",
      "   Combined Data Shapes After Merging   \n",
      "========================================\n",
      "Train Combined            : (558211, 55)\n",
      "Test Combined             : (135392, 54)\n",
      "========================================\n"
     ]
    }
   ],
   "source": [
    "def merge_and_return_shapes(train_inpatient, test_inpatient,\n",
    "                            train_outpatient, test_outpatient,\n",
    "                            train_beneficiary, test_beneficiary,\n",
    "                            provider_data=None):\n",
    "    # Merge Inpatient with Beneficiary\n",
    "    train_inpatient_merged = pd.merge(train_inpatient, train_beneficiary, on='BeneID', how='left')\n",
    "    test_inpatient_merged = pd.merge(test_inpatient, test_beneficiary, on='BeneID', how='left')\n",
    "    \n",
    "    # Merge Outpatient with Beneficiary\n",
    "    train_outpatient_merged = pd.merge(train_outpatient, train_beneficiary, on='BeneID', how='left')\n",
    "    test_outpatient_merged = pd.merge(test_outpatient, test_beneficiary, on='BeneID', how='left')\n",
    "    \n",
    "    # Combine Inpatient and Outpatient for Train and Test separately\n",
    "    train_combined = pd.concat([train_inpatient_merged, train_outpatient_merged], axis=0, ignore_index=True)\n",
    "    test_combined = pd.concat([test_inpatient_merged, test_outpatient_merged], axis=0, ignore_index=True)\n",
    "    \n",
    "    # Optionally merge with Provider data (only applicable for Train)\n",
    "    if provider_data is not None:\n",
    "        train_combined = pd.merge(train_combined, provider_data, on='Provider', how='left')\n",
    "\n",
    "    # Return the merged datasets\n",
    "    return train_combined, test_combined\n",
    "\n",
    "\n",
    "# call the function to merge and get the combined datasets:\n",
    "train_combined, test_combined = merge_and_return_shapes(\n",
    "    Train_Inpatientdata, Test_Inpatientdata, \n",
    "    Train_Outpatientdata, Test_Outpatientdata,\n",
    "    Train_Beneficiarydata, Test_Beneficiarydata,\n",
    "    provider_data=Train_Provider\n",
    ")\n",
    "\n",
    "# Print shapes of combined datasets after merging\n",
    "print_data_shapes(\n",
    "    (\"Train Combined\", train_combined),\n",
    "    (\"Test Combined\", test_combined),\n",
    "    title=\"Combined Data Shapes After Merging\"\n",
    ")"
   ]
  },
  {
   "cell_type": "markdown",
   "metadata": {},
   "source": [
    "##### .info()"
   ]
  },
  {
   "cell_type": "code",
   "execution_count": 6,
   "metadata": {},
   "outputs": [],
   "source": [
    "def missing_values_summary(df):\n",
    "    import pandas as pd\n",
    "\n",
    "    total = len(df)\n",
    "\n",
    "    # summary df\n",
    "    missing_df = df.isnull().sum().reset_index()\n",
    "    missing_df.columns = ['Column', 'Missing_Count']\n",
    "    missing_df['Missing_Percent'] = (missing_df['Missing_Count'] / total * 100).round(2)\n",
    "    missing_df['Dtype'] = df.dtypes.values\n",
    "    missing_df['Total'] = total\n",
    "\n",
    "    # filter only columns with missing values\n",
    "    missing_df = missing_df[missing_df['Missing_Count'] > 0]\n",
    "\n",
    "    if missing_df.empty:\n",
    "        print(\"✅ No missing values found in the dataset.\")\n",
    "        return\n",
    "\n",
    "    # sort by dtype and missing percentage\n",
    "    missing_df = missing_df.sort_values(by=['Dtype', 'Missing_Percent'], ascending=[True, False])\n",
    "\n",
    "    # group and print\n",
    "    for dtype, group in missing_df.groupby('Dtype'):\n",
    "        print(\"=\" * 70)\n",
    "        print(f\"Missing Values Summary for Data Type: {dtype}\".center(70))\n",
    "        print(\"=\" * 70)\n",
    "        display(group[['Column', 'Missing_Count', 'Missing_Percent', 'Total']].reset_index(drop=True))"
   ]
  },
  {
   "cell_type": "code",
   "execution_count": 7,
   "metadata": {},
   "outputs": [
    {
     "name": "stdout",
     "output_type": "stream",
     "text": [
      "======================================================================\n",
      "            Missing Values Summary for Data Type: float64             \n",
      "======================================================================\n"
     ]
    },
    {
     "data": {
      "text/html": [
       "<div>\n",
       "<style scoped>\n",
       "    .dataframe tbody tr th:only-of-type {\n",
       "        vertical-align: middle;\n",
       "    }\n",
       "\n",
       "    .dataframe tbody tr th {\n",
       "        vertical-align: top;\n",
       "    }\n",
       "\n",
       "    .dataframe thead th {\n",
       "        text-align: right;\n",
       "    }\n",
       "</style>\n",
       "<table border=\"1\" class=\"dataframe\">\n",
       "  <thead>\n",
       "    <tr style=\"text-align: right;\">\n",
       "      <th></th>\n",
       "      <th>Column</th>\n",
       "      <th>Missing_Count</th>\n",
       "      <th>Missing_Percent</th>\n",
       "      <th>Total</th>\n",
       "    </tr>\n",
       "  </thead>\n",
       "  <tbody>\n",
       "    <tr>\n",
       "      <th>0</th>\n",
       "      <td>ClmProcedureCode_5</td>\n",
       "      <td>558202</td>\n",
       "      <td>100.00</td>\n",
       "      <td>558211</td>\n",
       "    </tr>\n",
       "    <tr>\n",
       "      <th>1</th>\n",
       "      <td>ClmProcedureCode_6</td>\n",
       "      <td>558211</td>\n",
       "      <td>100.00</td>\n",
       "      <td>558211</td>\n",
       "    </tr>\n",
       "    <tr>\n",
       "      <th>2</th>\n",
       "      <td>ClmProcedureCode_4</td>\n",
       "      <td>558093</td>\n",
       "      <td>99.98</td>\n",
       "      <td>558211</td>\n",
       "    </tr>\n",
       "    <tr>\n",
       "      <th>3</th>\n",
       "      <td>ClmProcedureCode_3</td>\n",
       "      <td>557242</td>\n",
       "      <td>99.83</td>\n",
       "      <td>558211</td>\n",
       "    </tr>\n",
       "    <tr>\n",
       "      <th>4</th>\n",
       "      <td>ClmProcedureCode_2</td>\n",
       "      <td>552721</td>\n",
       "      <td>99.02</td>\n",
       "      <td>558211</td>\n",
       "    </tr>\n",
       "    <tr>\n",
       "      <th>5</th>\n",
       "      <td>ClmProcedureCode_1</td>\n",
       "      <td>534901</td>\n",
       "      <td>95.82</td>\n",
       "      <td>558211</td>\n",
       "    </tr>\n",
       "    <tr>\n",
       "      <th>6</th>\n",
       "      <td>DeductibleAmtPaid</td>\n",
       "      <td>899</td>\n",
       "      <td>0.16</td>\n",
       "      <td>558211</td>\n",
       "    </tr>\n",
       "  </tbody>\n",
       "</table>\n",
       "</div>"
      ],
      "text/plain": [
       "               Column  Missing_Count  Missing_Percent   Total\n",
       "0  ClmProcedureCode_5         558202           100.00  558211\n",
       "1  ClmProcedureCode_6         558211           100.00  558211\n",
       "2  ClmProcedureCode_4         558093            99.98  558211\n",
       "3  ClmProcedureCode_3         557242            99.83  558211\n",
       "4  ClmProcedureCode_2         552721            99.02  558211\n",
       "5  ClmProcedureCode_1         534901            95.82  558211\n",
       "6   DeductibleAmtPaid            899             0.16  558211"
      ]
     },
     "metadata": {},
     "output_type": "display_data"
    },
    {
     "name": "stdout",
     "output_type": "stream",
     "text": [
      "======================================================================\n",
      "             Missing Values Summary for Data Type: object             \n",
      "======================================================================\n"
     ]
    },
    {
     "data": {
      "text/html": [
       "<div>\n",
       "<style scoped>\n",
       "    .dataframe tbody tr th:only-of-type {\n",
       "        vertical-align: middle;\n",
       "    }\n",
       "\n",
       "    .dataframe tbody tr th {\n",
       "        vertical-align: top;\n",
       "    }\n",
       "\n",
       "    .dataframe thead th {\n",
       "        text-align: right;\n",
       "    }\n",
       "</style>\n",
       "<table border=\"1\" class=\"dataframe\">\n",
       "  <thead>\n",
       "    <tr style=\"text-align: right;\">\n",
       "      <th></th>\n",
       "      <th>Column</th>\n",
       "      <th>Missing_Count</th>\n",
       "      <th>Missing_Percent</th>\n",
       "      <th>Total</th>\n",
       "    </tr>\n",
       "  </thead>\n",
       "  <tbody>\n",
       "    <tr>\n",
       "      <th>0</th>\n",
       "      <td>DOD</td>\n",
       "      <td>554080</td>\n",
       "      <td>99.26</td>\n",
       "      <td>558211</td>\n",
       "    </tr>\n",
       "    <tr>\n",
       "      <th>1</th>\n",
       "      <td>ClmDiagnosisCode_10</td>\n",
       "      <td>553201</td>\n",
       "      <td>99.10</td>\n",
       "      <td>558211</td>\n",
       "    </tr>\n",
       "    <tr>\n",
       "      <th>2</th>\n",
       "      <td>AdmissionDt</td>\n",
       "      <td>517737</td>\n",
       "      <td>92.75</td>\n",
       "      <td>558211</td>\n",
       "    </tr>\n",
       "    <tr>\n",
       "      <th>3</th>\n",
       "      <td>DischargeDt</td>\n",
       "      <td>517737</td>\n",
       "      <td>92.75</td>\n",
       "      <td>558211</td>\n",
       "    </tr>\n",
       "    <tr>\n",
       "      <th>4</th>\n",
       "      <td>DiagnosisGroupCode</td>\n",
       "      <td>517737</td>\n",
       "      <td>92.75</td>\n",
       "      <td>558211</td>\n",
       "    </tr>\n",
       "    <tr>\n",
       "      <th>5</th>\n",
       "      <td>ClmDiagnosisCode_9</td>\n",
       "      <td>516396</td>\n",
       "      <td>92.51</td>\n",
       "      <td>558211</td>\n",
       "    </tr>\n",
       "    <tr>\n",
       "      <th>6</th>\n",
       "      <td>ClmDiagnosisCode_8</td>\n",
       "      <td>504767</td>\n",
       "      <td>90.43</td>\n",
       "      <td>558211</td>\n",
       "    </tr>\n",
       "    <tr>\n",
       "      <th>7</th>\n",
       "      <td>ClmDiagnosisCode_7</td>\n",
       "      <td>492034</td>\n",
       "      <td>88.14</td>\n",
       "      <td>558211</td>\n",
       "    </tr>\n",
       "    <tr>\n",
       "      <th>8</th>\n",
       "      <td>ClmDiagnosisCode_6</td>\n",
       "      <td>473819</td>\n",
       "      <td>84.88</td>\n",
       "      <td>558211</td>\n",
       "    </tr>\n",
       "    <tr>\n",
       "      <th>9</th>\n",
       "      <td>ClmDiagnosisCode_5</td>\n",
       "      <td>446287</td>\n",
       "      <td>79.95</td>\n",
       "      <td>558211</td>\n",
       "    </tr>\n",
       "    <tr>\n",
       "      <th>10</th>\n",
       "      <td>OperatingPhysician</td>\n",
       "      <td>443764</td>\n",
       "      <td>79.50</td>\n",
       "      <td>558211</td>\n",
       "    </tr>\n",
       "    <tr>\n",
       "      <th>11</th>\n",
       "      <td>ClmAdmitDiagnosisCode</td>\n",
       "      <td>412312</td>\n",
       "      <td>73.86</td>\n",
       "      <td>558211</td>\n",
       "    </tr>\n",
       "    <tr>\n",
       "      <th>12</th>\n",
       "      <td>ClmDiagnosisCode_4</td>\n",
       "      <td>393675</td>\n",
       "      <td>70.52</td>\n",
       "      <td>558211</td>\n",
       "    </tr>\n",
       "    <tr>\n",
       "      <th>13</th>\n",
       "      <td>OtherPhysician</td>\n",
       "      <td>358475</td>\n",
       "      <td>64.22</td>\n",
       "      <td>558211</td>\n",
       "    </tr>\n",
       "    <tr>\n",
       "      <th>14</th>\n",
       "      <td>ClmDiagnosisCode_3</td>\n",
       "      <td>315156</td>\n",
       "      <td>56.46</td>\n",
       "      <td>558211</td>\n",
       "    </tr>\n",
       "    <tr>\n",
       "      <th>15</th>\n",
       "      <td>ClmDiagnosisCode_2</td>\n",
       "      <td>195606</td>\n",
       "      <td>35.04</td>\n",
       "      <td>558211</td>\n",
       "    </tr>\n",
       "    <tr>\n",
       "      <th>16</th>\n",
       "      <td>ClmDiagnosisCode_1</td>\n",
       "      <td>10453</td>\n",
       "      <td>1.87</td>\n",
       "      <td>558211</td>\n",
       "    </tr>\n",
       "    <tr>\n",
       "      <th>17</th>\n",
       "      <td>AttendingPhysician</td>\n",
       "      <td>1508</td>\n",
       "      <td>0.27</td>\n",
       "      <td>558211</td>\n",
       "    </tr>\n",
       "  </tbody>\n",
       "</table>\n",
       "</div>"
      ],
      "text/plain": [
       "                   Column  Missing_Count  Missing_Percent   Total\n",
       "0                     DOD         554080            99.26  558211\n",
       "1     ClmDiagnosisCode_10         553201            99.10  558211\n",
       "2             AdmissionDt         517737            92.75  558211\n",
       "3             DischargeDt         517737            92.75  558211\n",
       "4      DiagnosisGroupCode         517737            92.75  558211\n",
       "5      ClmDiagnosisCode_9         516396            92.51  558211\n",
       "6      ClmDiagnosisCode_8         504767            90.43  558211\n",
       "7      ClmDiagnosisCode_7         492034            88.14  558211\n",
       "8      ClmDiagnosisCode_6         473819            84.88  558211\n",
       "9      ClmDiagnosisCode_5         446287            79.95  558211\n",
       "10     OperatingPhysician         443764            79.50  558211\n",
       "11  ClmAdmitDiagnosisCode         412312            73.86  558211\n",
       "12     ClmDiagnosisCode_4         393675            70.52  558211\n",
       "13         OtherPhysician         358475            64.22  558211\n",
       "14     ClmDiagnosisCode_3         315156            56.46  558211\n",
       "15     ClmDiagnosisCode_2         195606            35.04  558211\n",
       "16     ClmDiagnosisCode_1          10453             1.87  558211\n",
       "17     AttendingPhysician           1508             0.27  558211"
      ]
     },
     "metadata": {},
     "output_type": "display_data"
    }
   ],
   "source": [
    "# Missing entries for train dataset\n",
    "missing_values_summary(train_combined)"
   ]
  },
  {
   "cell_type": "code",
   "execution_count": 8,
   "metadata": {},
   "outputs": [
    {
     "name": "stdout",
     "output_type": "stream",
     "text": [
      "======================================================================\n",
      "            Missing Values Summary for Data Type: float64             \n",
      "======================================================================\n"
     ]
    },
    {
     "data": {
      "text/html": [
       "<div>\n",
       "<style scoped>\n",
       "    .dataframe tbody tr th:only-of-type {\n",
       "        vertical-align: middle;\n",
       "    }\n",
       "\n",
       "    .dataframe tbody tr th {\n",
       "        vertical-align: top;\n",
       "    }\n",
       "\n",
       "    .dataframe thead th {\n",
       "        text-align: right;\n",
       "    }\n",
       "</style>\n",
       "<table border=\"1\" class=\"dataframe\">\n",
       "  <thead>\n",
       "    <tr style=\"text-align: right;\">\n",
       "      <th></th>\n",
       "      <th>Column</th>\n",
       "      <th>Missing_Count</th>\n",
       "      <th>Missing_Percent</th>\n",
       "      <th>Total</th>\n",
       "    </tr>\n",
       "  </thead>\n",
       "  <tbody>\n",
       "    <tr>\n",
       "      <th>0</th>\n",
       "      <td>ClmProcedureCode_5</td>\n",
       "      <td>135390</td>\n",
       "      <td>100.00</td>\n",
       "      <td>135392</td>\n",
       "    </tr>\n",
       "    <tr>\n",
       "      <th>1</th>\n",
       "      <td>ClmProcedureCode_6</td>\n",
       "      <td>135392</td>\n",
       "      <td>100.00</td>\n",
       "      <td>135392</td>\n",
       "    </tr>\n",
       "    <tr>\n",
       "      <th>2</th>\n",
       "      <td>ClmProcedureCode_4</td>\n",
       "      <td>135363</td>\n",
       "      <td>99.98</td>\n",
       "      <td>135392</td>\n",
       "    </tr>\n",
       "    <tr>\n",
       "      <th>3</th>\n",
       "      <td>ClmProcedureCode_3</td>\n",
       "      <td>135167</td>\n",
       "      <td>99.83</td>\n",
       "      <td>135392</td>\n",
       "    </tr>\n",
       "    <tr>\n",
       "      <th>4</th>\n",
       "      <td>ClmProcedureCode_2</td>\n",
       "      <td>134129</td>\n",
       "      <td>99.07</td>\n",
       "      <td>135392</td>\n",
       "    </tr>\n",
       "    <tr>\n",
       "      <th>5</th>\n",
       "      <td>ClmProcedureCode_1</td>\n",
       "      <td>129925</td>\n",
       "      <td>95.96</td>\n",
       "      <td>135392</td>\n",
       "    </tr>\n",
       "    <tr>\n",
       "      <th>6</th>\n",
       "      <td>DeductibleAmtPaid</td>\n",
       "      <td>196</td>\n",
       "      <td>0.14</td>\n",
       "      <td>135392</td>\n",
       "    </tr>\n",
       "  </tbody>\n",
       "</table>\n",
       "</div>"
      ],
      "text/plain": [
       "               Column  Missing_Count  Missing_Percent   Total\n",
       "0  ClmProcedureCode_5         135390           100.00  135392\n",
       "1  ClmProcedureCode_6         135392           100.00  135392\n",
       "2  ClmProcedureCode_4         135363            99.98  135392\n",
       "3  ClmProcedureCode_3         135167            99.83  135392\n",
       "4  ClmProcedureCode_2         134129            99.07  135392\n",
       "5  ClmProcedureCode_1         129925            95.96  135392\n",
       "6   DeductibleAmtPaid            196             0.14  135392"
      ]
     },
     "metadata": {},
     "output_type": "display_data"
    },
    {
     "name": "stdout",
     "output_type": "stream",
     "text": [
      "======================================================================\n",
      "             Missing Values Summary for Data Type: object             \n",
      "======================================================================\n"
     ]
    },
    {
     "data": {
      "text/html": [
       "<div>\n",
       "<style scoped>\n",
       "    .dataframe tbody tr th:only-of-type {\n",
       "        vertical-align: middle;\n",
       "    }\n",
       "\n",
       "    .dataframe tbody tr th {\n",
       "        vertical-align: top;\n",
       "    }\n",
       "\n",
       "    .dataframe thead th {\n",
       "        text-align: right;\n",
       "    }\n",
       "</style>\n",
       "<table border=\"1\" class=\"dataframe\">\n",
       "  <thead>\n",
       "    <tr style=\"text-align: right;\">\n",
       "      <th></th>\n",
       "      <th>Column</th>\n",
       "      <th>Missing_Count</th>\n",
       "      <th>Missing_Percent</th>\n",
       "      <th>Total</th>\n",
       "    </tr>\n",
       "  </thead>\n",
       "  <tbody>\n",
       "    <tr>\n",
       "      <th>0</th>\n",
       "      <td>DOD</td>\n",
       "      <td>134352</td>\n",
       "      <td>99.23</td>\n",
       "      <td>135392</td>\n",
       "    </tr>\n",
       "    <tr>\n",
       "      <th>1</th>\n",
       "      <td>ClmDiagnosisCode_10</td>\n",
       "      <td>134242</td>\n",
       "      <td>99.15</td>\n",
       "      <td>135392</td>\n",
       "    </tr>\n",
       "    <tr>\n",
       "      <th>2</th>\n",
       "      <td>AdmissionDt</td>\n",
       "      <td>125841</td>\n",
       "      <td>92.95</td>\n",
       "      <td>135392</td>\n",
       "    </tr>\n",
       "    <tr>\n",
       "      <th>3</th>\n",
       "      <td>DischargeDt</td>\n",
       "      <td>125841</td>\n",
       "      <td>92.95</td>\n",
       "      <td>135392</td>\n",
       "    </tr>\n",
       "    <tr>\n",
       "      <th>4</th>\n",
       "      <td>DiagnosisGroupCode</td>\n",
       "      <td>125841</td>\n",
       "      <td>92.95</td>\n",
       "      <td>135392</td>\n",
       "    </tr>\n",
       "    <tr>\n",
       "      <th>5</th>\n",
       "      <td>ClmDiagnosisCode_9</td>\n",
       "      <td>125516</td>\n",
       "      <td>92.71</td>\n",
       "      <td>135392</td>\n",
       "    </tr>\n",
       "    <tr>\n",
       "      <th>6</th>\n",
       "      <td>ClmDiagnosisCode_8</td>\n",
       "      <td>122670</td>\n",
       "      <td>90.60</td>\n",
       "      <td>135392</td>\n",
       "    </tr>\n",
       "    <tr>\n",
       "      <th>7</th>\n",
       "      <td>ClmDiagnosisCode_7</td>\n",
       "      <td>119607</td>\n",
       "      <td>88.34</td>\n",
       "      <td>135392</td>\n",
       "    </tr>\n",
       "    <tr>\n",
       "      <th>8</th>\n",
       "      <td>ClmDiagnosisCode_6</td>\n",
       "      <td>115232</td>\n",
       "      <td>85.11</td>\n",
       "      <td>135392</td>\n",
       "    </tr>\n",
       "    <tr>\n",
       "      <th>9</th>\n",
       "      <td>ClmDiagnosisCode_5</td>\n",
       "      <td>108594</td>\n",
       "      <td>80.21</td>\n",
       "      <td>135392</td>\n",
       "    </tr>\n",
       "    <tr>\n",
       "      <th>10</th>\n",
       "      <td>OperatingPhysician</td>\n",
       "      <td>108199</td>\n",
       "      <td>79.92</td>\n",
       "      <td>135392</td>\n",
       "    </tr>\n",
       "    <tr>\n",
       "      <th>11</th>\n",
       "      <td>ClmAdmitDiagnosisCode</td>\n",
       "      <td>100036</td>\n",
       "      <td>73.89</td>\n",
       "      <td>135392</td>\n",
       "    </tr>\n",
       "    <tr>\n",
       "      <th>12</th>\n",
       "      <td>ClmDiagnosisCode_4</td>\n",
       "      <td>95775</td>\n",
       "      <td>70.74</td>\n",
       "      <td>135392</td>\n",
       "    </tr>\n",
       "    <tr>\n",
       "      <th>13</th>\n",
       "      <td>OtherPhysician</td>\n",
       "      <td>86760</td>\n",
       "      <td>64.08</td>\n",
       "      <td>135392</td>\n",
       "    </tr>\n",
       "    <tr>\n",
       "      <th>14</th>\n",
       "      <td>ClmDiagnosisCode_3</td>\n",
       "      <td>76744</td>\n",
       "      <td>56.68</td>\n",
       "      <td>135392</td>\n",
       "    </tr>\n",
       "    <tr>\n",
       "      <th>15</th>\n",
       "      <td>ClmDiagnosisCode_2</td>\n",
       "      <td>47785</td>\n",
       "      <td>35.29</td>\n",
       "      <td>135392</td>\n",
       "    </tr>\n",
       "    <tr>\n",
       "      <th>16</th>\n",
       "      <td>ClmDiagnosisCode_1</td>\n",
       "      <td>2578</td>\n",
       "      <td>1.90</td>\n",
       "      <td>135392</td>\n",
       "    </tr>\n",
       "    <tr>\n",
       "      <th>17</th>\n",
       "      <td>AttendingPhysician</td>\n",
       "      <td>347</td>\n",
       "      <td>0.26</td>\n",
       "      <td>135392</td>\n",
       "    </tr>\n",
       "  </tbody>\n",
       "</table>\n",
       "</div>"
      ],
      "text/plain": [
       "                   Column  Missing_Count  Missing_Percent   Total\n",
       "0                     DOD         134352            99.23  135392\n",
       "1     ClmDiagnosisCode_10         134242            99.15  135392\n",
       "2             AdmissionDt         125841            92.95  135392\n",
       "3             DischargeDt         125841            92.95  135392\n",
       "4      DiagnosisGroupCode         125841            92.95  135392\n",
       "5      ClmDiagnosisCode_9         125516            92.71  135392\n",
       "6      ClmDiagnosisCode_8         122670            90.60  135392\n",
       "7      ClmDiagnosisCode_7         119607            88.34  135392\n",
       "8      ClmDiagnosisCode_6         115232            85.11  135392\n",
       "9      ClmDiagnosisCode_5         108594            80.21  135392\n",
       "10     OperatingPhysician         108199            79.92  135392\n",
       "11  ClmAdmitDiagnosisCode         100036            73.89  135392\n",
       "12     ClmDiagnosisCode_4          95775            70.74  135392\n",
       "13         OtherPhysician          86760            64.08  135392\n",
       "14     ClmDiagnosisCode_3          76744            56.68  135392\n",
       "15     ClmDiagnosisCode_2          47785            35.29  135392\n",
       "16     ClmDiagnosisCode_1           2578             1.90  135392\n",
       "17     AttendingPhysician            347             0.26  135392"
      ]
     },
     "metadata": {},
     "output_type": "display_data"
    }
   ],
   "source": [
    "# Missing entries for test dataset\n",
    "missing_values_summary(test_combined)"
   ]
  },
  {
   "cell_type": "markdown",
   "metadata": {},
   "source": [
    "##### Dropping all columns with .90 threshold."
   ]
  },
  {
   "cell_type": "code",
   "execution_count": 9,
   "metadata": {},
   "outputs": [],
   "source": [
    "import pandas as pd\n",
    "\n",
    "def clean_high_missing_columns(df, threshold=90):\n",
    "    RED = '\\033[91m'\n",
    "    YELLOW = '\\033[93m'\n",
    "    GREEN = '\\033[92m'\n",
    "    RESET = '\\033[0m'\n",
    "\n",
    "    total = len(df)\n",
    "    missing_df = df.isnull().sum().reset_index()\n",
    "    missing_df.columns = ['Column', 'Missing_Count']\n",
    "    missing_df['Missing_Percent'] = (missing_df['Missing_Count'] / total * 100).round(2)\n",
    "    missing_df['Dtype'] = df.dtypes.values\n",
    "    missing_df['Total'] = total\n",
    "\n",
    "    # Columns to drop\n",
    "    to_drop = missing_df[missing_df['Missing_Percent'] >= threshold]\n",
    "\n",
    "    if not to_drop.empty:\n",
    "        print(\"=\" * 70)\n",
    "        print(f\"{RED}[!] Dropping columns with ≥ {threshold}% missing values\".center(70) + RESET)\n",
    "        print(\"=\" * 70)\n",
    "        display(to_drop[['Column', 'Missing_Count', 'Missing_Percent', 'Total']])\n",
    "        df = df.drop(columns=to_drop['Column'].values)\n",
    "    else:\n",
    "        print(f\"{GREEN}[✓] No columns with ≥ {threshold}% missing values found.{RESET}\")\n",
    "\n",
    "    # Drop rows where 'DeductibleAmtPaid' is missing\n",
    "    if 'DeductibleAmtPaid' in df.columns:\n",
    "        missing_rows = df[df['DeductibleAmtPaid'].isnull()]\n",
    "        if not missing_rows.empty:\n",
    "            print(f\"{RED}[!] Dropping {len(missing_rows)} rows where 'DeductibleAmtPaid' is missing{RESET}\")\n",
    "            df = df.dropna(subset=['DeductibleAmtPaid'])\n",
    "\n",
    "    # Replace missing values in diagnosis code columns with 'Not Assigned'\n",
    "    diagnosis_columns = [col for col in df.columns if 'ClmDiagnosisCode' in col or col == 'ClmAdmitDiagnosisCode']\n",
    "    for column in diagnosis_columns:\n",
    "        if column in df.columns:\n",
    "            missing_count = df[column].isnull().sum()\n",
    "            if missing_count > 0:\n",
    "                print(f\"{YELLOW}[~] Filling {missing_count} missing values in '{column}' with 'Not Assigned'{RESET}\")\n",
    "                df[column] = df[column].fillna('Not Assigned')\n",
    "\n",
    "    # Replace missing values in physician columns with 'Not Assigned'\n",
    "    physician_columns = ['OperatingPhysician', 'AttendingPhysician', 'OtherPhysician']\n",
    "    for column in physician_columns:\n",
    "        if column in df.columns:\n",
    "            missing_count = df[column].isnull().sum()\n",
    "            if missing_count > 0:\n",
    "                print(f\"{YELLOW}[~] Filling {missing_count} missing values in '{column}' with 'Not Assigned'{RESET}\")\n",
    "                df[column] = df[column].fillna('Not Assigned')\n",
    "\n",
    "    return df"
   ]
  },
  {
   "cell_type": "code",
   "execution_count": 10,
   "metadata": {},
   "outputs": [
    {
     "name": "stdout",
     "output_type": "stream",
     "text": [
      "======================================================================\n",
      "         \u001b[91m[!] Dropping columns with ≥ 90% missing values          \u001b[0m\n",
      "======================================================================\n"
     ]
    },
    {
     "data": {
      "text/html": [
       "<div>\n",
       "<style scoped>\n",
       "    .dataframe tbody tr th:only-of-type {\n",
       "        vertical-align: middle;\n",
       "    }\n",
       "\n",
       "    .dataframe tbody tr th {\n",
       "        vertical-align: top;\n",
       "    }\n",
       "\n",
       "    .dataframe thead th {\n",
       "        text-align: right;\n",
       "    }\n",
       "</style>\n",
       "<table border=\"1\" class=\"dataframe\">\n",
       "  <thead>\n",
       "    <tr style=\"text-align: right;\">\n",
       "      <th></th>\n",
       "      <th>Column</th>\n",
       "      <th>Missing_Count</th>\n",
       "      <th>Missing_Percent</th>\n",
       "      <th>Total</th>\n",
       "    </tr>\n",
       "  </thead>\n",
       "  <tbody>\n",
       "    <tr>\n",
       "      <th>9</th>\n",
       "      <td>AdmissionDt</td>\n",
       "      <td>517737</td>\n",
       "      <td>92.75</td>\n",
       "      <td>558211</td>\n",
       "    </tr>\n",
       "    <tr>\n",
       "      <th>12</th>\n",
       "      <td>DischargeDt</td>\n",
       "      <td>517737</td>\n",
       "      <td>92.75</td>\n",
       "      <td>558211</td>\n",
       "    </tr>\n",
       "    <tr>\n",
       "      <th>13</th>\n",
       "      <td>DiagnosisGroupCode</td>\n",
       "      <td>517737</td>\n",
       "      <td>92.75</td>\n",
       "      <td>558211</td>\n",
       "    </tr>\n",
       "    <tr>\n",
       "      <th>21</th>\n",
       "      <td>ClmDiagnosisCode_8</td>\n",
       "      <td>504767</td>\n",
       "      <td>90.43</td>\n",
       "      <td>558211</td>\n",
       "    </tr>\n",
       "    <tr>\n",
       "      <th>22</th>\n",
       "      <td>ClmDiagnosisCode_9</td>\n",
       "      <td>516396</td>\n",
       "      <td>92.51</td>\n",
       "      <td>558211</td>\n",
       "    </tr>\n",
       "    <tr>\n",
       "      <th>23</th>\n",
       "      <td>ClmDiagnosisCode_10</td>\n",
       "      <td>553201</td>\n",
       "      <td>99.10</td>\n",
       "      <td>558211</td>\n",
       "    </tr>\n",
       "    <tr>\n",
       "      <th>24</th>\n",
       "      <td>ClmProcedureCode_1</td>\n",
       "      <td>534901</td>\n",
       "      <td>95.82</td>\n",
       "      <td>558211</td>\n",
       "    </tr>\n",
       "    <tr>\n",
       "      <th>25</th>\n",
       "      <td>ClmProcedureCode_2</td>\n",
       "      <td>552721</td>\n",
       "      <td>99.02</td>\n",
       "      <td>558211</td>\n",
       "    </tr>\n",
       "    <tr>\n",
       "      <th>26</th>\n",
       "      <td>ClmProcedureCode_3</td>\n",
       "      <td>557242</td>\n",
       "      <td>99.83</td>\n",
       "      <td>558211</td>\n",
       "    </tr>\n",
       "    <tr>\n",
       "      <th>27</th>\n",
       "      <td>ClmProcedureCode_4</td>\n",
       "      <td>558093</td>\n",
       "      <td>99.98</td>\n",
       "      <td>558211</td>\n",
       "    </tr>\n",
       "    <tr>\n",
       "      <th>28</th>\n",
       "      <td>ClmProcedureCode_5</td>\n",
       "      <td>558202</td>\n",
       "      <td>100.00</td>\n",
       "      <td>558211</td>\n",
       "    </tr>\n",
       "    <tr>\n",
       "      <th>29</th>\n",
       "      <td>ClmProcedureCode_6</td>\n",
       "      <td>558211</td>\n",
       "      <td>100.00</td>\n",
       "      <td>558211</td>\n",
       "    </tr>\n",
       "    <tr>\n",
       "      <th>31</th>\n",
       "      <td>DOD</td>\n",
       "      <td>554080</td>\n",
       "      <td>99.26</td>\n",
       "      <td>558211</td>\n",
       "    </tr>\n",
       "  </tbody>\n",
       "</table>\n",
       "</div>"
      ],
      "text/plain": [
       "                 Column  Missing_Count  Missing_Percent   Total\n",
       "9           AdmissionDt         517737            92.75  558211\n",
       "12          DischargeDt         517737            92.75  558211\n",
       "13   DiagnosisGroupCode         517737            92.75  558211\n",
       "21   ClmDiagnosisCode_8         504767            90.43  558211\n",
       "22   ClmDiagnosisCode_9         516396            92.51  558211\n",
       "23  ClmDiagnosisCode_10         553201            99.10  558211\n",
       "24   ClmProcedureCode_1         534901            95.82  558211\n",
       "25   ClmProcedureCode_2         552721            99.02  558211\n",
       "26   ClmProcedureCode_3         557242            99.83  558211\n",
       "27   ClmProcedureCode_4         558093            99.98  558211\n",
       "28   ClmProcedureCode_5         558202           100.00  558211\n",
       "29   ClmProcedureCode_6         558211           100.00  558211\n",
       "31                  DOD         554080            99.26  558211"
      ]
     },
     "metadata": {},
     "output_type": "display_data"
    },
    {
     "name": "stdout",
     "output_type": "stream",
     "text": [
      "\u001b[91m[!] Dropping 899 rows where 'DeductibleAmtPaid' is missing\u001b[0m\n",
      "\u001b[93m[~] Filling 412312 missing values in 'ClmAdmitDiagnosisCode' with 'Not Assigned'\u001b[0m\n",
      "\u001b[93m[~] Filling 10453 missing values in 'ClmDiagnosisCode_1' with 'Not Assigned'\u001b[0m\n",
      "\u001b[93m[~] Filling 195601 missing values in 'ClmDiagnosisCode_2' with 'Not Assigned'\u001b[0m\n",
      "\u001b[93m[~] Filling 315143 missing values in 'ClmDiagnosisCode_3' with 'Not Assigned'\u001b[0m\n",
      "\u001b[93m[~] Filling 393650 missing values in 'ClmDiagnosisCode_4' with 'Not Assigned'\u001b[0m\n",
      "\u001b[93m[~] Filling 446238 missing values in 'ClmDiagnosisCode_5' with 'Not Assigned'\u001b[0m\n",
      "\u001b[93m[~] Filling 473744 missing values in 'ClmDiagnosisCode_6' with 'Not Assigned'\u001b[0m\n",
      "\u001b[93m[~] Filling 491921 missing values in 'ClmDiagnosisCode_7' with 'Not Assigned'\u001b[0m\n",
      "\u001b[93m[~] Filling 443409 missing values in 'OperatingPhysician' with 'Not Assigned'\u001b[0m\n",
      "\u001b[93m[~] Filling 1499 missing values in 'AttendingPhysician' with 'Not Assigned'\u001b[0m\n",
      "\u001b[93m[~] Filling 357674 missing values in 'OtherPhysician' with 'Not Assigned'\u001b[0m\n"
     ]
    }
   ],
   "source": [
    "# clean up missing values, threshold 0.9\n",
    "train_combined = clean_high_missing_columns(train_combined)"
   ]
  },
  {
   "cell_type": "code",
   "execution_count": 11,
   "metadata": {},
   "outputs": [
    {
     "name": "stdout",
     "output_type": "stream",
     "text": [
      "======================================================================\n",
      "         \u001b[91m[!] Dropping columns with ≥ 90% missing values          \u001b[0m\n",
      "======================================================================\n"
     ]
    },
    {
     "data": {
      "text/html": [
       "<div>\n",
       "<style scoped>\n",
       "    .dataframe tbody tr th:only-of-type {\n",
       "        vertical-align: middle;\n",
       "    }\n",
       "\n",
       "    .dataframe tbody tr th {\n",
       "        vertical-align: top;\n",
       "    }\n",
       "\n",
       "    .dataframe thead th {\n",
       "        text-align: right;\n",
       "    }\n",
       "</style>\n",
       "<table border=\"1\" class=\"dataframe\">\n",
       "  <thead>\n",
       "    <tr style=\"text-align: right;\">\n",
       "      <th></th>\n",
       "      <th>Column</th>\n",
       "      <th>Missing_Count</th>\n",
       "      <th>Missing_Percent</th>\n",
       "      <th>Total</th>\n",
       "    </tr>\n",
       "  </thead>\n",
       "  <tbody>\n",
       "    <tr>\n",
       "      <th>9</th>\n",
       "      <td>AdmissionDt</td>\n",
       "      <td>125841</td>\n",
       "      <td>92.95</td>\n",
       "      <td>135392</td>\n",
       "    </tr>\n",
       "    <tr>\n",
       "      <th>12</th>\n",
       "      <td>DischargeDt</td>\n",
       "      <td>125841</td>\n",
       "      <td>92.95</td>\n",
       "      <td>135392</td>\n",
       "    </tr>\n",
       "    <tr>\n",
       "      <th>13</th>\n",
       "      <td>DiagnosisGroupCode</td>\n",
       "      <td>125841</td>\n",
       "      <td>92.95</td>\n",
       "      <td>135392</td>\n",
       "    </tr>\n",
       "    <tr>\n",
       "      <th>21</th>\n",
       "      <td>ClmDiagnosisCode_8</td>\n",
       "      <td>122670</td>\n",
       "      <td>90.60</td>\n",
       "      <td>135392</td>\n",
       "    </tr>\n",
       "    <tr>\n",
       "      <th>22</th>\n",
       "      <td>ClmDiagnosisCode_9</td>\n",
       "      <td>125516</td>\n",
       "      <td>92.71</td>\n",
       "      <td>135392</td>\n",
       "    </tr>\n",
       "    <tr>\n",
       "      <th>23</th>\n",
       "      <td>ClmDiagnosisCode_10</td>\n",
       "      <td>134242</td>\n",
       "      <td>99.15</td>\n",
       "      <td>135392</td>\n",
       "    </tr>\n",
       "    <tr>\n",
       "      <th>24</th>\n",
       "      <td>ClmProcedureCode_1</td>\n",
       "      <td>129925</td>\n",
       "      <td>95.96</td>\n",
       "      <td>135392</td>\n",
       "    </tr>\n",
       "    <tr>\n",
       "      <th>25</th>\n",
       "      <td>ClmProcedureCode_2</td>\n",
       "      <td>134129</td>\n",
       "      <td>99.07</td>\n",
       "      <td>135392</td>\n",
       "    </tr>\n",
       "    <tr>\n",
       "      <th>26</th>\n",
       "      <td>ClmProcedureCode_3</td>\n",
       "      <td>135167</td>\n",
       "      <td>99.83</td>\n",
       "      <td>135392</td>\n",
       "    </tr>\n",
       "    <tr>\n",
       "      <th>27</th>\n",
       "      <td>ClmProcedureCode_4</td>\n",
       "      <td>135363</td>\n",
       "      <td>99.98</td>\n",
       "      <td>135392</td>\n",
       "    </tr>\n",
       "    <tr>\n",
       "      <th>28</th>\n",
       "      <td>ClmProcedureCode_5</td>\n",
       "      <td>135390</td>\n",
       "      <td>100.00</td>\n",
       "      <td>135392</td>\n",
       "    </tr>\n",
       "    <tr>\n",
       "      <th>29</th>\n",
       "      <td>ClmProcedureCode_6</td>\n",
       "      <td>135392</td>\n",
       "      <td>100.00</td>\n",
       "      <td>135392</td>\n",
       "    </tr>\n",
       "    <tr>\n",
       "      <th>31</th>\n",
       "      <td>DOD</td>\n",
       "      <td>134352</td>\n",
       "      <td>99.23</td>\n",
       "      <td>135392</td>\n",
       "    </tr>\n",
       "  </tbody>\n",
       "</table>\n",
       "</div>"
      ],
      "text/plain": [
       "                 Column  Missing_Count  Missing_Percent   Total\n",
       "9           AdmissionDt         125841            92.95  135392\n",
       "12          DischargeDt         125841            92.95  135392\n",
       "13   DiagnosisGroupCode         125841            92.95  135392\n",
       "21   ClmDiagnosisCode_8         122670            90.60  135392\n",
       "22   ClmDiagnosisCode_9         125516            92.71  135392\n",
       "23  ClmDiagnosisCode_10         134242            99.15  135392\n",
       "24   ClmProcedureCode_1         129925            95.96  135392\n",
       "25   ClmProcedureCode_2         134129            99.07  135392\n",
       "26   ClmProcedureCode_3         135167            99.83  135392\n",
       "27   ClmProcedureCode_4         135363            99.98  135392\n",
       "28   ClmProcedureCode_5         135390           100.00  135392\n",
       "29   ClmProcedureCode_6         135392           100.00  135392\n",
       "31                  DOD         134352            99.23  135392"
      ]
     },
     "metadata": {},
     "output_type": "display_data"
    },
    {
     "name": "stdout",
     "output_type": "stream",
     "text": [
      "\u001b[91m[!] Dropping 196 rows where 'DeductibleAmtPaid' is missing\u001b[0m\n",
      "\u001b[93m[~] Filling 100036 missing values in 'ClmAdmitDiagnosisCode' with 'Not Assigned'\u001b[0m\n",
      "\u001b[93m[~] Filling 2578 missing values in 'ClmDiagnosisCode_1' with 'Not Assigned'\u001b[0m\n",
      "\u001b[93m[~] Filling 47783 missing values in 'ClmDiagnosisCode_2' with 'Not Assigned'\u001b[0m\n",
      "\u001b[93m[~] Filling 76740 missing values in 'ClmDiagnosisCode_3' with 'Not Assigned'\u001b[0m\n",
      "\u001b[93m[~] Filling 95770 missing values in 'ClmDiagnosisCode_4' with 'Not Assigned'\u001b[0m\n",
      "\u001b[93m[~] Filling 108586 missing values in 'ClmDiagnosisCode_5' with 'Not Assigned'\u001b[0m\n",
      "\u001b[93m[~] Filling 115217 missing values in 'ClmDiagnosisCode_6' with 'Not Assigned'\u001b[0m\n",
      "\u001b[93m[~] Filling 119585 missing values in 'ClmDiagnosisCode_7' with 'Not Assigned'\u001b[0m\n",
      "\u001b[93m[~] Filling 108132 missing values in 'OperatingPhysician' with 'Not Assigned'\u001b[0m\n",
      "\u001b[93m[~] Filling 345 missing values in 'AttendingPhysician' with 'Not Assigned'\u001b[0m\n",
      "\u001b[93m[~] Filling 86587 missing values in 'OtherPhysician' with 'Not Assigned'\u001b[0m\n"
     ]
    }
   ],
   "source": [
    "# clean up missing values, threshold 0.9\n",
    "test_combined = clean_high_missing_columns(test_combined)"
   ]
  },
  {
   "cell_type": "code",
   "execution_count": 12,
   "metadata": {},
   "outputs": [
    {
     "name": "stdout",
     "output_type": "stream",
     "text": [
      "✅ No missing values found in the dataset.\n"
     ]
    }
   ],
   "source": [
    "# Missing entries for train dataset, after clean_up\n",
    "missing_values_summary(train_combined)"
   ]
  },
  {
   "cell_type": "code",
   "execution_count": 13,
   "metadata": {},
   "outputs": [
    {
     "name": "stdout",
     "output_type": "stream",
     "text": [
      "✅ No missing values found in the dataset.\n"
     ]
    }
   ],
   "source": [
    "# Missing entries for test dataset, after clean_up\n",
    "missing_values_summary(test_combined)"
   ]
  },
  {
   "cell_type": "code",
   "execution_count": 14,
   "metadata": {},
   "outputs": [],
   "source": [
    "import pandas as pd\n",
    "\n",
    "def check_duplicates(train_combined, test_combined):\n",
    "    print(\"~\" * 70)\n",
    "    print(\"🔍 Checking for duplicate rows in each dataset\".center(70))\n",
    "    print(\"~\" * 70)\n",
    "\n",
    "    # Train dataset\n",
    "    train_duplicates = train_combined[train_combined.duplicated()]\n",
    "    if not train_duplicates.empty:\n",
    "        print(f\"[!] Train set has {len(train_duplicates)} duplicate rows.\")\n",
    "    else:\n",
    "        print(\"[✓] No duplicates found in train set.\")\n",
    "\n",
    "    # Test dataset\n",
    "    test_duplicates = test_combined[test_combined.duplicated()]\n",
    "    if not test_duplicates.empty:\n",
    "        print(f\"[!] Test set has {len(test_duplicates)} duplicate rows.\")\n",
    "    else:\n",
    "        print(\"[✓] No duplicates found in test set.\")\n",
    "\n",
    "    return train_duplicates, test_duplicates"
   ]
  },
  {
   "cell_type": "code",
   "execution_count": 15,
   "metadata": {},
   "outputs": [
    {
     "name": "stdout",
     "output_type": "stream",
     "text": [
      "~~~~~~~~~~~~~~~~~~~~~~~~~~~~~~~~~~~~~~~~~~~~~~~~~~~~~~~~~~~~~~~~~~~~~~\n",
      "            🔍 Checking for duplicate rows in each dataset             \n",
      "~~~~~~~~~~~~~~~~~~~~~~~~~~~~~~~~~~~~~~~~~~~~~~~~~~~~~~~~~~~~~~~~~~~~~~\n",
      "[✓] No duplicates found in train set.\n",
      "[✓] No duplicates found in test set.\n"
     ]
    }
   ],
   "source": [
    "# duplicates check\n",
    "train_duplicates, test_duplicates = check_duplicates(train_combined, test_combined)"
   ]
  },
  {
   "cell_type": "code",
   "execution_count": 16,
   "metadata": {},
   "outputs": [],
   "source": [
    "def convert_date_columns(df, date_columns):\n",
    "    for col in date_columns:\n",
    "        if col in df.columns:\n",
    "            df[col] = pd.to_datetime(df[col], errors='coerce')\n",
    "            print(f\"[✓] Converted '{col}' to datetime\")\n",
    "        else:\n",
    "            print(f\"[!] Column '{col}' not found in DataFrame\")\n",
    "    return df"
   ]
  },
  {
   "cell_type": "code",
   "execution_count": 17,
   "metadata": {},
   "outputs": [
    {
     "name": "stdout",
     "output_type": "stream",
     "text": [
      "[✓] Converted 'ClaimStartDt' to datetime\n",
      "[✓] Converted 'ClaimEndDt' to datetime\n",
      "[✓] Converted 'DOB' to datetime\n",
      "[✓] Converted 'ClaimStartDt' to datetime\n",
      "[✓] Converted 'ClaimEndDt' to datetime\n",
      "[✓] Converted 'DOB' to datetime\n"
     ]
    }
   ],
   "source": [
    "date_cols = ['ClaimStartDt', 'ClaimEndDt', 'DOB']\n",
    "\n",
    "# Convert in both datasets\n",
    "train_combined = convert_date_columns(train_combined, date_cols)\n",
    "test_combined = convert_date_columns(test_combined, date_cols)"
   ]
  },
  {
   "cell_type": "code",
   "execution_count": 18,
   "metadata": {},
   "outputs": [],
   "source": [
    "def check_date_format(df, date_columns, df_name='Dataset'):\n",
    "    print(f\"\\n{'~'*70}\")\n",
    "    print(f\"🗓️  Date Format Check in {df_name}\")\n",
    "    print(f\"{'~'*70}\")\n",
    "    for col in date_columns:\n",
    "        if col in df.columns:\n",
    "            dtype = df[col].dtype\n",
    "            is_datetime = pd.api.types.is_datetime64_any_dtype(df[col])\n",
    "            status = \"✅ datetime64[ns]\" if is_datetime else f\"❌ {dtype}\"\n",
    "            print(f\"{col:<20} : {status}\")\n",
    "        else:\n",
    "            print(f\"{col:<20} : ⚠️ Column not found\")"
   ]
  },
  {
   "cell_type": "code",
   "execution_count": 19,
   "metadata": {},
   "outputs": [
    {
     "name": "stdout",
     "output_type": "stream",
     "text": [
      "\n",
      "~~~~~~~~~~~~~~~~~~~~~~~~~~~~~~~~~~~~~~~~~~~~~~~~~~~~~~~~~~~~~~~~~~~~~~\n",
      "🗓️  Date Format Check in Train Dataset\n",
      "~~~~~~~~~~~~~~~~~~~~~~~~~~~~~~~~~~~~~~~~~~~~~~~~~~~~~~~~~~~~~~~~~~~~~~\n",
      "ClaimStartDt         : ✅ datetime64[ns]\n",
      "ClaimEndDt           : ✅ datetime64[ns]\n",
      "DOB                  : ✅ datetime64[ns]\n",
      "\n",
      "~~~~~~~~~~~~~~~~~~~~~~~~~~~~~~~~~~~~~~~~~~~~~~~~~~~~~~~~~~~~~~~~~~~~~~\n",
      "🗓️  Date Format Check in Test Dataset\n",
      "~~~~~~~~~~~~~~~~~~~~~~~~~~~~~~~~~~~~~~~~~~~~~~~~~~~~~~~~~~~~~~~~~~~~~~\n",
      "ClaimStartDt         : ✅ datetime64[ns]\n",
      "ClaimEndDt           : ✅ datetime64[ns]\n",
      "DOB                  : ✅ datetime64[ns]\n"
     ]
    }
   ],
   "source": [
    "date_cols = ['ClaimStartDt', 'ClaimEndDt', 'DOB']\n",
    "\n",
    "check_date_format(train_combined, date_cols, 'Train Dataset')\n",
    "check_date_format(test_combined, date_cols, 'Test Dataset')"
   ]
  },
  {
   "cell_type": "code",
   "execution_count": 20,
   "metadata": {},
   "outputs": [],
   "source": [
    "# Chronic Conditions Count\n",
    "train_combined['ClaimDuration'] = (pd.to_datetime(train_combined['ClaimEndDt']) - pd.to_datetime(train_combined['ClaimStartDt'])).dt.days\n",
    "test_combined['ClaimDuration'] = (pd.to_datetime(test_combined['ClaimEndDt']) - pd.to_datetime(test_combined['ClaimStartDt'])).dt.days"
   ]
  },
  {
   "cell_type": "code",
   "execution_count": 21,
   "metadata": {},
   "outputs": [],
   "source": [
    "# latest claim date as the reference date\n",
    "latest_claim_date = pd.to_datetime(train_combined['ClaimEndDt']).max()\n",
    "\n",
    "# Calculate age based on the latest claim date (or any other suitable date)\n",
    "train_combined['Age'] = (latest_claim_date - pd.to_datetime(train_combined['DOB'])).dt.days // 365\n",
    "test_combined['Age'] = (latest_claim_date - pd.to_datetime(test_combined['DOB'])).dt.days // 365"
   ]
  },
  {
   "cell_type": "code",
   "execution_count": 22,
   "metadata": {},
   "outputs": [],
   "source": [
    "chronic_conditions_columns = [\n",
    "    'ChronicCond_Alzheimer', 'ChronicCond_Heartfailure', 'ChronicCond_KidneyDisease',\n",
    "    'ChronicCond_Cancer', 'ChronicCond_ObstrPulmonary', 'ChronicCond_Depression',\n",
    "    'ChronicCond_Diabetes', 'ChronicCond_IschemicHeart', 'ChronicCond_Osteoporasis',\n",
    "    'ChronicCond_rheumatoidarthritis', 'ChronicCond_stroke'\n",
    "]\n",
    "train_combined['TotalChronicConditions'] = train_combined[chronic_conditions_columns].sum(axis=1)\n",
    "test_combined['TotalChronicConditions'] = test_combined[chronic_conditions_columns].sum(axis=1)"
   ]
  },
  {
   "cell_type": "code",
   "execution_count": 23,
   "metadata": {},
   "outputs": [],
   "source": [
    "# Reimbursement vs Deductible Ratio\n",
    "train_combined['ReimbursementDeductibleRatio'] = train_combined['InscClaimAmtReimbursed'] / train_combined['DeductibleAmtPaid']\n",
    "test_combined['ReimbursementDeductibleRatio'] = test_combined['InscClaimAmtReimbursed'] / test_combined['DeductibleAmtPaid']"
   ]
  },
  {
   "cell_type": "code",
   "execution_count": 24,
   "metadata": {},
   "outputs": [],
   "source": [
    "# claim types\n",
    "train_combined['ClaimType'] = train_combined[['ClmDiagnosisCode_1', 'ClmDiagnosisCode_2', 'ClmDiagnosisCode_3']].apply(lambda x: '-'.join(x.dropna().astype(str)), axis=1)\n",
    "test_combined['ClaimType'] = test_combined[['ClmDiagnosisCode_1', 'ClmDiagnosisCode_2', 'ClmDiagnosisCode_3']].apply(lambda x: '-'.join(x.dropna().astype(str)), axis=1)"
   ]
  },
  {
   "cell_type": "code",
   "execution_count": 25,
   "metadata": {},
   "outputs": [],
   "source": [
    "# fraud indicator\n",
    "train_combined['IsFraud'] = train_combined['PotentialFraud'].apply(lambda x: 1 if x == 'Y' else 0)"
   ]
  },
  {
   "cell_type": "code",
   "execution_count": 26,
   "metadata": {},
   "outputs": [],
   "source": [
    "# provider claim count\n",
    "train_combined['ProviderClaimCount'] = train_combined.groupby('Provider')['ClaimID'].transform('count')\n",
    "test_combined['ProviderClaimCount'] = test_combined.groupby('Provider')['ClaimID'].transform('count')"
   ]
  },
  {
   "cell_type": "code",
   "execution_count": 27,
   "metadata": {},
   "outputs": [],
   "source": [
    "# Reimbursement Amount per Chronic Condition\n",
    "train_combined['ReimbursementPerCondition'] = train_combined['InscClaimAmtReimbursed'] / (train_combined['TotalChronicConditions'] + 1)\n",
    "test_combined['ReimbursementPerCondition'] = test_combined['InscClaimAmtReimbursed'] / (test_combined['TotalChronicConditions'] + 1)"
   ]
  },
  {
   "cell_type": "code",
   "execution_count": 28,
   "metadata": {},
   "outputs": [],
   "source": [
    "# saving files to csv\n",
    "train_combined.to_csv('train_combined.csv', index=False)\n",
    "test_combined.to_csv('test_combined.csv', index=False)"
   ]
  },
  {
   "cell_type": "code",
   "execution_count": null,
   "metadata": {},
   "outputs": [],
   "source": []
  },
  {
   "cell_type": "code",
   "execution_count": null,
   "metadata": {},
   "outputs": [],
   "source": []
  },
  {
   "cell_type": "code",
   "execution_count": null,
   "metadata": {},
   "outputs": [],
   "source": []
  },
  {
   "cell_type": "markdown",
   "metadata": {},
   "source": [
    "##### Encoding"
   ]
  },
  {
   "cell_type": "code",
   "execution_count": 33,
   "metadata": {},
   "outputs": [
    {
     "name": "stdout",
     "output_type": "stream",
     "text": [
      "\n",
      "Column: AttendingPhysician\n",
      "Unique values count: 82063\n",
      "Top 5 most frequent values:\n",
      "AttendingPhysician\n",
      "PHY330576    3930\n",
      "PHY350277    1628\n",
      "PHY412132    1321\n",
      "PHY423534    1223\n",
      "PHY314027    1200\n",
      "Name: count, dtype: int64\n",
      "Number of missing/unknown: 0\n",
      "\n",
      "Column: OperatingPhysician\n",
      "Unique values count: 35316\n",
      "Top 5 most frequent values:\n",
      "OperatingPhysician\n",
      "Unknown      443764\n",
      "PHY330576       424\n",
      "PHY424897       293\n",
      "PHY314027       256\n",
      "PHY423534       250\n",
      "Name: count, dtype: int64\n",
      "Number of missing/unknown: 443764\n",
      "\n",
      "Column: OtherPhysician\n",
      "Unique values count: 46458\n",
      "Top 5 most frequent values:\n",
      "OtherPhysician\n",
      "Unknown      358475\n",
      "PHY412132      1247\n",
      "PHY341578      1098\n",
      "PHY338032      1070\n",
      "PHY337425      1041\n",
      "Name: count, dtype: int64\n",
      "Number of missing/unknown: 358475\n",
      "\n",
      "Column: Provider\n",
      "Unique values count: 5410\n",
      "Top 5 most frequent values:\n",
      "Provider\n",
      "PRV51459    8240\n",
      "PRV53797    4739\n",
      "PRV51574    4444\n",
      "PRV53918    3588\n",
      "PRV54895    3436\n",
      "Name: count, dtype: int64\n",
      "Number of missing/unknown: 0\n"
     ]
    }
   ],
   "source": [
    "cols = ['AttendingPhysician', 'OperatingPhysician', 'OtherPhysician', 'Provider']\n",
    "\n",
    "for col in cols:\n",
    "    print(f\"\\nColumn: {col}\")\n",
    "    print(f\"Unique values count: {Train_Combined[col].nunique()}\")\n",
    "    print(f\"Top 5 most frequent values:\\n{Train_Combined[col].value_counts().head()}\")\n",
    "    print(f\"Number of missing/unknown: {(Train_Combined[col] == 'Unknown').sum() + (Train_Combined[col] == 'Missing').sum()}\")"
   ]
  },
  {
   "cell_type": "code",
   "execution_count": 34,
   "metadata": {},
   "outputs": [
    {
     "name": "stdout",
     "output_type": "stream",
     "text": [
      "Provider Unique Values - Train: 5410, Test: 1353\n"
     ]
    }
   ],
   "source": [
    "print(f\"{col} Unique Values - Train: {Train_Combined[col].nunique()}, Test: {Test_Combined[col].nunique()}\")"
   ]
  },
  {
   "cell_type": "code",
   "execution_count": 35,
   "metadata": {},
   "outputs": [
    {
     "name": "stdout",
     "output_type": "stream",
     "text": [
      "Label Encoding completed successfully!\n"
     ]
    }
   ],
   "source": [
    "# Label Encoding\n",
    "\n",
    "label_cols = ['AttendingPhysician', 'OperatingPhysician', 'OtherPhysician', 'Provider']\n",
    "\n",
    "for col in label_cols:\n",
    "    le = LabelEncoder()\n",
    "    \n",
    "    # Combine Train & Test column values to fit encoder\n",
    "    combined_vals = pd.concat([Train_Combined[col], Test_Combined[col]]).astype(str)\n",
    "    le.fit(combined_vals)\n",
    "    \n",
    "    # Transform both datasets\n",
    "    Train_Combined[col] = le.transform(Train_Combined[col].astype(str))\n",
    "    Test_Combined[col] = le.transform(Test_Combined[col].astype(str))\n",
    "\n",
    "print(\"Label Encoding completed successfully!\")"
   ]
  },
  {
   "cell_type": "code",
   "execution_count": 36,
   "metadata": {},
   "outputs": [
    {
     "name": "stdout",
     "output_type": "stream",
     "text": [
      "['BeneID', 'ClaimID', 'ClaimStartDt', 'ClaimEndDt', 'Provider', 'InscClaimAmtReimbursed', 'AttendingPhysician', 'OperatingPhysician', 'OtherPhysician', 'AdmissionDt', 'ClmAdmitDiagnosisCode', 'DischargeDt', 'DiagnosisGroupCode', 'ClmDiagnosisCode_1', 'ClmDiagnosisCode_2', 'ClmDiagnosisCode_3', 'ClmDiagnosisCode_4', 'ClmDiagnosisCode_5', 'ClmDiagnosisCode_6', 'ClmDiagnosisCode_7', 'ClmDiagnosisCode_8', 'ClmDiagnosisCode_9', 'ClmProcedureCode_1', 'ClmProcedureCode_2', 'DOB', 'DOD', 'Gender', 'Race', 'RenalDiseaseIndicator', 'State', 'County', 'NoOfMonths_PartACov', 'NoOfMonths_PartBCov', 'ChronicCond_Alzheimer', 'ChronicCond_Heartfailure', 'ChronicCond_KidneyDisease', 'ChronicCond_Cancer', 'ChronicCond_ObstrPulmonary', 'ChronicCond_Depression', 'ChronicCond_Diabetes', 'ChronicCond_IschemicHeart', 'ChronicCond_Osteoporasis', 'ChronicCond_rheumatoidarthritis', 'ChronicCond_stroke', 'IPAnnualReimbursementAmt', 'IPAnnualDeductibleAmt', 'OPAnnualReimbursementAmt', 'OPAnnualDeductibleAmt', 'DeductibleAmtPaid', 'PotentialFraud']\n"
     ]
    }
   ],
   "source": [
    "print(Train_Combined.columns.tolist())"
   ]
  },
  {
   "cell_type": "code",
   "execution_count": 37,
   "metadata": {},
   "outputs": [
    {
     "name": "stdout",
     "output_type": "stream",
     "text": [
      "['BeneID', 'ClaimID', 'ClaimStartDt', 'ClaimEndDt', 'Provider', 'InscClaimAmtReimbursed', 'AttendingPhysician', 'OperatingPhysician', 'OtherPhysician', 'AdmissionDt', 'ClmAdmitDiagnosisCode', 'DischargeDt', 'DiagnosisGroupCode', 'ClmDiagnosisCode_1', 'ClmDiagnosisCode_2', 'ClmDiagnosisCode_3', 'ClmDiagnosisCode_4', 'ClmDiagnosisCode_5', 'ClmDiagnosisCode_6', 'ClmDiagnosisCode_7', 'ClmDiagnosisCode_8', 'ClmDiagnosisCode_9', 'ClmProcedureCode_1', 'ClmProcedureCode_2', 'DOB', 'DOD', 'Gender', 'Race', 'RenalDiseaseIndicator', 'State', 'County', 'NoOfMonths_PartACov', 'NoOfMonths_PartBCov', 'ChronicCond_Alzheimer', 'ChronicCond_Heartfailure', 'ChronicCond_KidneyDisease', 'ChronicCond_Cancer', 'ChronicCond_ObstrPulmonary', 'ChronicCond_Depression', 'ChronicCond_Diabetes', 'ChronicCond_IschemicHeart', 'ChronicCond_Osteoporasis', 'ChronicCond_rheumatoidarthritis', 'ChronicCond_stroke', 'IPAnnualReimbursementAmt', 'IPAnnualDeductibleAmt', 'OPAnnualReimbursementAmt', 'OPAnnualDeductibleAmt', 'DeductibleAmtPaid']\n"
     ]
    }
   ],
   "source": [
    "print(Test_Combined.columns.tolist())"
   ]
  },
  {
   "cell_type": "code",
   "execution_count": 38,
   "metadata": {},
   "outputs": [],
   "source": [
    "categorical_cols = ['Gender', 'Race', 'RenalDiseaseIndicator', 'PotentialFraud']\n",
    "\n",
    "# For Train Data\n",
    "cols_to_encode_train = [col for col in categorical_cols if col in Train_Combined.columns]\n",
    "Train_Combined = pd.get_dummies(Train_Combined, columns=cols_to_encode_train, drop_first=True)\n",
    "\n",
    "# For Test Data\n",
    "cols_to_encode_test = [col for col in categorical_cols if col in Test_Combined.columns]\n",
    "Test_Combined = pd.get_dummies(Test_Combined, columns=cols_to_encode_test, drop_first=True)\n",
    "\n",
    "# Align columns\n",
    "Train_Combined, Test_Combined = Train_Combined.align(Test_Combined, join='left', axis=1, fill_value=0)"
   ]
  },
  {
   "cell_type": "code",
   "execution_count": 39,
   "metadata": {},
   "outputs": [
    {
     "name": "stdout",
     "output_type": "stream",
     "text": [
      "Remaining Label Encoding completed successfully!\n"
     ]
    }
   ],
   "source": [
    "label_cols_remaining = ['State', 'County', 'DiagnosisGroupCode', 'ClmAdmitDiagnosisCode',\n",
    "                        'ClmDiagnosisCode_1', 'ClmDiagnosisCode_2', 'ClmDiagnosisCode_3',\n",
    "                        'ClmDiagnosisCode_4', 'ClmDiagnosisCode_5', 'ClmDiagnosisCode_6',\n",
    "                        'ClmDiagnosisCode_7', 'ClmDiagnosisCode_8', 'ClmDiagnosisCode_9',\n",
    "                        'ClmProcedureCode_1', 'ClmProcedureCode_2']\n",
    "\n",
    "for col in label_cols_remaining:\n",
    "    le = LabelEncoder()\n",
    "    \n",
    "    # Combine Train & Test values for consistency\n",
    "    combined_vals = pd.concat([Train_Combined[col], Test_Combined[col]]).astype(str)\n",
    "    le.fit(combined_vals)\n",
    "    \n",
    "    # Transform both datasets\n",
    "    Train_Combined[col] = le.transform(Train_Combined[col].astype(str))\n",
    "    Test_Combined[col] = le.transform(Test_Combined[col].astype(str))\n",
    "\n",
    "print(\"Remaining Label Encoding completed successfully!\")"
   ]
  },
  {
   "cell_type": "code",
   "execution_count": 40,
   "metadata": {},
   "outputs": [],
   "source": [
    "# Claim duration\n",
    "Train_Combined['ClaimStartDt'] = pd.to_datetime(Train_Combined['ClaimStartDt'])\n",
    "Train_Combined['ClaimEndDt'] = pd.to_datetime(Train_Combined['ClaimEndDt'])\n",
    "Test_Combined['ClaimStartDt'] = pd.to_datetime(Test_Combined['ClaimStartDt'])\n",
    "Test_Combined['ClaimEndDt'] = pd.to_datetime(Test_Combined['ClaimEndDt'])\n",
    "\n",
    "Train_Combined['Claim_Duration'] = (Train_Combined['ClaimEndDt'] - Train_Combined['ClaimStartDt']).dt.days\n",
    "Test_Combined['Claim_Duration'] = (Test_Combined['ClaimEndDt'] - Test_Combined['ClaimStartDt']).dt.days"
   ]
  },
  {
   "cell_type": "code",
   "execution_count": 41,
   "metadata": {},
   "outputs": [],
   "source": [
    "# Length of Stay\n",
    "Train_Combined['AdmissionDt'] = pd.to_datetime(Train_Combined['AdmissionDt'], errors='coerce')\n",
    "Train_Combined['DischargeDt'] = pd.to_datetime(Train_Combined['DischargeDt'], errors='coerce')\n",
    "Test_Combined['AdmissionDt'] = pd.to_datetime(Test_Combined['AdmissionDt'], errors='coerce')\n",
    "Test_Combined['DischargeDt'] = pd.to_datetime(Test_Combined['DischargeDt'], errors='coerce')\n",
    "\n",
    "Train_Combined['Length_of_Stay'] = (Train_Combined['DischargeDt'] - Train_Combined['AdmissionDt']).dt.days\n",
    "Test_Combined['Length_of_Stay'] = (Test_Combined['DischargeDt'] - Test_Combined['AdmissionDt']).dt.days"
   ]
  },
  {
   "cell_type": "code",
   "execution_count": 42,
   "metadata": {},
   "outputs": [],
   "source": [
    "# Age\n",
    "Train_Combined['DOB'] = pd.to_datetime(Train_Combined['DOB'], errors='coerce')\n",
    "Test_Combined['DOB'] = pd.to_datetime(Test_Combined['DOB'], errors='coerce')\n",
    "\n",
    "Train_Combined['Age'] = Train_Combined['ClaimStartDt'].dt.year - Train_Combined['DOB'].dt.year\n",
    "Test_Combined['Age'] = Test_Combined['ClaimStartDt'].dt.year - Test_Combined['DOB'].dt.year"
   ]
  },
  {
   "cell_type": "code",
   "execution_count": 43,
   "metadata": {},
   "outputs": [],
   "source": [
    "# Deceased Flag\n",
    "Train_Combined['DOD'] = pd.to_datetime(Train_Combined['DOD'], errors='coerce')\n",
    "Test_Combined['DOD'] = pd.to_datetime(Test_Combined['DOD'], errors='coerce')\n",
    "\n",
    "Train_Combined['Deceased_Flag'] = (Train_Combined['DOD'].notnull()) & (Train_Combined['ClaimStartDt'] > Train_Combined['DOD'])\n",
    "Train_Combined['Deceased_Flag'] = Train_Combined['Deceased_Flag'].astype(int)\n",
    "\n",
    "Test_Combined['Deceased_Flag'] = (Test_Combined['DOD'].notnull()) & (Test_Combined['ClaimStartDt'] > Test_Combined['DOD'])\n",
    "Test_Combined['Deceased_Flag'] = Test_Combined['Deceased_Flag'].astype(int)"
   ]
  },
  {
   "cell_type": "code",
   "execution_count": 44,
   "metadata": {},
   "outputs": [],
   "source": [
    "# Claim and Month/Year\n",
    "Train_Combined['Claim_Month'] = Train_Combined['ClaimStartDt'].dt.month\n",
    "Train_Combined['Claim_Year'] = Train_Combined['ClaimStartDt'].dt.year\n",
    "\n",
    "Test_Combined['Claim_Month'] = Test_Combined['ClaimStartDt'].dt.month\n",
    "Test_Combined['Claim_Year'] = Test_Combined['ClaimStartDt'].dt.year"
   ]
  },
  {
   "cell_type": "code",
   "execution_count": 45,
   "metadata": {},
   "outputs": [],
   "source": [
    "# Number of Diagnoses & Procedures per Claim\n",
    "Train_Combined['Num_Diagnoses'] = Train_Combined[[f'ClmDiagnosisCode_{i}' for i in range(1,10)]].notnull().sum(axis=1)\n",
    "Test_Combined['Num_Diagnoses'] = Test_Combined[[f'ClmDiagnosisCode_{i}' for i in range(1,10)]].notnull().sum(axis=1)\n",
    "\n",
    "Train_Combined['Num_Procedures'] = Train_Combined[[f'ClmProcedureCode_{i}' for i in range(1,3)]].notnull().sum(axis=1)\n",
    "Test_Combined['Num_Procedures'] = Test_Combined[[f'ClmProcedureCode_{i}' for i in range(1,3)]].notnull().sum(axis=1)"
   ]
  },
  {
   "cell_type": "code",
   "execution_count": 46,
   "metadata": {},
   "outputs": [],
   "source": [
    "# Chronic conditions sum\n",
    "chronic_cols = [col for col in Train_Combined.columns if 'ChronicCond_' in col]\n",
    "\n",
    "Train_Combined['Chronic_Cond_Sum'] = Train_Combined[chronic_cols].sum(axis=1)\n",
    "Test_Combined['Chronic_Cond_Sum'] = Test_Combined[chronic_cols].sum(axis=1)"
   ]
  },
  {
   "cell_type": "code",
   "execution_count": 47,
   "metadata": {},
   "outputs": [],
   "source": [
    "# Average Deductible/Reimbursement Amount per Claim\n",
    "Train_Combined['Avg_Deductible'] = (Train_Combined['IPAnnualDeductibleAmt'] + Train_Combined['OPAnnualDeductibleAmt']) / 2\n",
    "Test_Combined['Avg_Deductible'] = (Test_Combined['IPAnnualDeductibleAmt'] + Test_Combined['OPAnnualDeductibleAmt']) / 2\n",
    "\n",
    "Train_Combined['Avg_Reimbursement'] = (Train_Combined['IPAnnualReimbursementAmt'] + Train_Combined['OPAnnualReimbursementAmt']) / 2\n",
    "Test_Combined['Avg_Reimbursement'] = (Test_Combined['IPAnnualReimbursementAmt'] + Test_Combined['OPAnnualReimbursementAmt']) / 2"
   ]
  },
  {
   "cell_type": "code",
   "execution_count": 48,
   "metadata": {},
   "outputs": [],
   "source": [
    "# Unique Beneficiary Count of Claims\n",
    "beneficiary_claim_count = Train_Combined['BeneID'].value_counts().to_dict()\n",
    "Train_Combined['Bene_Claim_Count'] = Train_Combined['BeneID'].map(beneficiary_claim_count)\n",
    "Test_Combined['Bene_Claim_Count'] = Test_Combined['BeneID'].map(lambda x: beneficiary_claim_count.get(x, 0))"
   ]
  },
  {
   "cell_type": "code",
   "execution_count": 49,
   "metadata": {},
   "outputs": [],
   "source": [
    "# Previous fraud indicator\n",
    "provider_fraud = Train_Combined.groupby('Provider')['PotentialFraud_Yes'].max()\n",
    "Train_Combined['Provider_Prev_Fraud'] = Train_Combined['Provider'].map(provider_fraud)\n",
    "Test_Combined['Provider_Prev_Fraud'] = Test_Combined['Provider'].map(lambda x: provider_fraud.get(x, 0))"
   ]
  },
  {
   "cell_type": "code",
   "execution_count": 50,
   "metadata": {},
   "outputs": [],
   "source": [
    "# One-hot encoding for claim month\n",
    "Train_Combined = pd.get_dummies(Train_Combined, columns=['Claim_Month'], prefix='Month', drop_first=True)\n",
    "Test_Combined = pd.get_dummies(Test_Combined, columns=['Claim_Month'], prefix='Month', drop_first=True)\n",
    "\n",
    "Train_Combined, Test_Combined = Train_Combined.align(Test_Combined, join='left', axis=1, fill_value=0)"
   ]
  },
  {
   "cell_type": "code",
   "execution_count": 51,
   "metadata": {},
   "outputs": [
    {
     "name": "stdout",
     "output_type": "stream",
     "text": [
      "Date, ID, and leakage columns dropped successfully!\n",
      "Claim_Month encoding completed!\n",
      "New cleaned & encoded files saved successfully!\n"
     ]
    }
   ],
   "source": [
    "# Dropping the leakage feature\n",
    "if 'ClaimStartDt' in Train_Combined.columns:\n",
    "    Train_Combined['Claim_Month'] = Train_Combined['ClaimStartDt'].dt.month\n",
    "if 'ClaimStartDt' in Test_Combined.columns:\n",
    "    Test_Combined['Claim_Month'] = Test_Combined['ClaimStartDt'].dt.month\n",
    "\n",
    "# Columns to drop (dates + identifiers + high-leakage features)\n",
    "cols_to_drop = [\n",
    "    'ClaimStartDt', 'ClaimEndDt', 'AdmissionDt', 'DischargeDt',\n",
    "    'DOB', 'DOD', 'ClaimID', 'BeneID', \n",
    "    'Provider_Prev_Fraud'  # <--- Dropping the leakage feature\n",
    "]\n",
    "\n",
    "# Drop from Train & Test if columns exist\n",
    "Train_Combined.drop(columns=[col for col in cols_to_drop if col in Train_Combined.columns], inplace=True)\n",
    "Test_Combined.drop(columns=[col for col in cols_to_drop if col in Test_Combined.columns], inplace=True)\n",
    "\n",
    "print(\"Date, ID, and leakage columns dropped successfully!\")\n",
    "\n",
    "# Encoding 'Claim_Month' (recommended)\n",
    "if 'Claim_Month' in Train_Combined.columns:\n",
    "    Train_Combined = pd.get_dummies(Train_Combined, columns=['Claim_Month'], prefix='Month', drop_first=True)\n",
    "if 'Claim_Month' in Test_Combined.columns:\n",
    "    Test_Combined = pd.get_dummies(Test_Combined, columns=['Claim_Month'], prefix='Month', drop_first=True)\n",
    "\n",
    "# Align columns after encoding\n",
    "Train_Combined, Test_Combined = Train_Combined.align(Test_Combined, join='left', axis=1, fill_value=0)\n",
    "\n",
    "print(\"Claim_Month encoding completed!\")\n",
    "\n",
    "# Save to new CSV files\n",
    "Train_Combined.to_csv('Train_Cleaned_Encoded.csv', index=False)\n",
    "Test_Combined.to_csv('Test_Cleaned_Encoded.csv', index=False)\n",
    "\n",
    "print(\"New cleaned & encoded files saved successfully!\")\n"
   ]
  },
  {
   "cell_type": "markdown",
   "metadata": {},
   "source": [
    "##### Load encoded cleaned data"
   ]
  },
  {
   "cell_type": "code",
   "execution_count": 53,
   "metadata": {},
   "outputs": [],
   "source": [
    "train_df = pd.read_csv('Train_Cleaned_Encoded.csv')\n",
    "test_df = pd.read_csv('Test_Cleaned_Encoded.csv')\n",
    "\n",
    "# Separate target\n",
    "y = train_df['PotentialFraud_Yes']  # Assuming binary 0/1\n",
    "X_train = train_df.drop('PotentialFraud_Yes', axis=1)\n",
    "X_test = test_df.copy()  # No target column in test set"
   ]
  },
  {
   "cell_type": "markdown",
   "metadata": {},
   "source": [
    "##### Normalization"
   ]
  },
  {
   "cell_type": "code",
   "execution_count": 54,
   "metadata": {},
   "outputs": [
    {
     "name": "stdout",
     "output_type": "stream",
     "text": [
      "Normalization successful!\n"
     ]
    }
   ],
   "source": [
    "# Separate target variable\n",
    "y = train_df['PotentialFraud_Yes']\n",
    "X_train = train_df.drop('PotentialFraud_Yes', axis=1)\n",
    "\n",
    "# Remove 'PotentialFraud_Yes' from test if it exists\n",
    "if 'PotentialFraud_Yes' in test_df.columns:\n",
    "    X_test = test_df.drop('PotentialFraud_Yes', axis=1)\n",
    "else:\n",
    "    X_test = test_df.copy()\n",
    "\n",
    "# Normalization\n",
    "scaler = StandardScaler()\n",
    "X_train_scaled = scaler.fit_transform(X_train)\n",
    "X_test_scaled = scaler.transform(X_test)\n",
    "\n",
    "print(\"Normalization successful!\")"
   ]
  },
  {
   "cell_type": "markdown",
   "metadata": {},
   "source": [
    "##### Validation"
   ]
  },
  {
   "cell_type": "code",
   "execution_count": 55,
   "metadata": {},
   "outputs": [
    {
     "name": "stdout",
     "output_type": "stream",
     "text": [
      "              precision    recall  f1-score   support\n",
      "\n",
      "       False       0.82      0.94      0.88     69083\n",
      "        True       0.87      0.67      0.76     42560\n",
      "\n",
      "    accuracy                           0.84    111643\n",
      "   macro avg       0.85      0.80      0.82    111643\n",
      "weighted avg       0.84      0.84      0.83    111643\n",
      "\n",
      "ROC AUC Score: 0.8038190223792585\n"
     ]
    }
   ],
   "source": [
    "# Split for validation\n",
    "X_tr, X_val, y_tr, y_val = train_test_split(X_train_scaled, y, test_size=0.2, stratify=y, random_state=42)\n",
    "\n",
    "# Train Random Forest (as an example)\n",
    "rf = RandomForestClassifier(n_estimators=100, random_state=42)\n",
    "rf.fit(X_tr, y_tr)\n",
    "\n",
    "# Evaluate\n",
    "y_pred = rf.predict(X_val)\n",
    "print(classification_report(y_val, y_pred))\n",
    "print(\"ROC AUC Score:\", roc_auc_score(y_val, y_pred))"
   ]
  },
  {
   "cell_type": "markdown",
   "metadata": {},
   "source": [
    "##### Feature Importance"
   ]
  },
  {
   "cell_type": "code",
   "execution_count": 56,
   "metadata": {},
   "outputs": [
    {
     "data": {
      "image/png": "[encoded data removed]",
      "text/plain": [
       "<Figure size 640x480 with 1 Axes>"
      ]
     },
     "metadata": {},
     "output_type": "display_data"
    }
   ],
   "source": [
    "# Set the font to Times New Roman\n",
    "plt.rcParams['font.family'] = 'Times New Roman'\n",
    "\n",
    "# Create the feature importance series\n",
    "feature_importances = pd.Series(rf.feature_importances_, index=X_train.columns)\n",
    "\n",
    "# Plot the top 20 important features\n",
    "ax = feature_importances.nlargest(20).plot(kind='barh', color='skyblue', edgecolor='black')\n",
    "\n",
    "# Set the title and labels with some customization\n",
    "plt.title(\"Top 20 Important Features\", fontsize=12)\n",
    "plt.xlabel(\"Importance\", fontsize=11)\n",
    "plt.ylabel(\"Features\", fontsize=11)\n",
    "\n",
    "# Add gridlines and adjust the style for a cleaner look\n",
    "plt.grid(axis='x', linestyle='--', alpha=0.7)\n",
    "\n",
    "# Show the plot\n",
    "plt.tight_layout()\n",
    "plt.show()"
   ]
  },
  {
   "cell_type": "code",
   "execution_count": 57,
   "metadata": {},
   "outputs": [
    {
     "name": "stdout",
     "output_type": "stream",
     "text": [
      "Submission file saved successfully!\n"
     ]
    }
   ],
   "source": [
    "# Predict\n",
    "test_preds = rf.predict(X_test_scaled)\n",
    "\n",
    "# Prepare submission (no IDs, so index-based submission)\n",
    "submission = pd.DataFrame({\n",
    "    'Index': test_df.index,\n",
    "    'PotentialFraud': ['Yes' if pred == 1 else 'No' for pred in test_preds]\n",
    "})\n",
    "\n",
    "submission.to_csv('Final_Submission_Normalized.csv', index=False)\n",
    "print(\"Submission file saved successfully!\")"
   ]
  },
  {
   "cell_type": "code",
   "execution_count": 58,
   "metadata": {},
   "outputs": [
    {
     "name": "stderr",
     "output_type": "stream",
     "text": [
      "[Parallel(n_jobs=-1)]: Using backend LokyBackend with 8 concurrent workers.\n",
      "[Parallel(n_jobs=-1)]: Done   2 out of   5 | elapsed:   21.3s remaining:   31.9s\n",
      "[Parallel(n_jobs=-1)]: Done   5 out of   5 | elapsed:   21.6s finished\n"
     ]
    },
    {
     "name": "stdout",
     "output_type": "stream",
     "text": [
      "Logistic Regression - Cross-Validated F1 Scores: [0.27434268 0.27556085 0.2750741  0.27521125 0.27796003]\n",
      "Logistic Regression - Mean F1 Score: 0.2756\n"
     ]
    }
   ],
   "source": [
    "# Impute missing values with the median of each column\n",
    "imputer = SimpleImputer(strategy='median')\n",
    "\n",
    "# Create a pipeline with imputer and logistic regression\n",
    "model_lr = make_pipeline(imputer, LogisticRegression(max_iter=1000))\n",
    "\n",
    "\n",
    "\n",
    "# Define scoring metric\n",
    "scoring = 'f1'\n",
    "\n",
    "# Create stratified k-fold cross validator\n",
    "skf = StratifiedKFold(n_splits=5, shuffle=True, random_state=42)\n",
    "\n",
    "cv_scores_lr = cross_val_score(model_lr, X_train_scaled, y, cv=skf, scoring=scoring, n_jobs=-1, verbose=1)\n",
    "print(f\"Logistic Regression - Cross-Validated F1 Scores: {cv_scores_lr}\")\n",
    "print(f\"Logistic Regression - Mean F1 Score: {cv_scores_lr.mean():.4f}\")"
   ]
  },
  {
   "cell_type": "code",
   "execution_count": 59,
   "metadata": {},
   "outputs": [
    {
     "name": "stdout",
     "output_type": "stream",
     "text": [
      "XGBoost - Cross-Validated F1 Scores: [0.86292854 0.86242614 0.85998235 0.86153921 0.86197245]\n",
      "XGBoost - Mean F1 Score: 0.8618\n"
     ]
    }
   ],
   "source": [
    "# Define the XGBoost model with class_weight='balanced' for handling class imbalance\n",
    "model_xgb = XGBClassifier(scale_pos_weight=1, random_state=42, use_label_encoder=False, eval_metric='logloss')\n",
    "\n",
    "# Stratified K-Fold Cross-Validation\n",
    "skf = StratifiedKFold(n_splits=5, shuffle=True, random_state=42)\n",
    "\n",
    "# Define the scoring metric\n",
    "scoring = make_scorer(f1_score, pos_label=True)\n",
    "\n",
    "# Perform cross-validation\n",
    "cv_scores_xgb = cross_val_score(model_xgb, X_train_scaled, y, cv=skf, scoring=scoring, n_jobs=-1)\n",
    "\n",
    "# Print the results\n",
    "print(f\"XGBoost - Cross-Validated F1 Scores: {cv_scores_xgb}\")\n",
    "print(f\"XGBoost - Mean F1 Score: {cv_scores_xgb.mean():.4f}\")"
   ]
  },
  {
   "cell_type": "code",
   "execution_count": 60,
   "metadata": {},
   "outputs": [
    {
     "name": "stdout",
     "output_type": "stream",
     "text": [
      "LightGBM - Cross-Validated F1 Scores: [0.8151355  0.81414621 0.81604741 0.81779418 0.81808693]\n",
      "LightGBM - Mean F1 Score: 0.8162\n"
     ]
    }
   ],
   "source": [
    "# Define the LightGBM model with class_weight='balanced' for handling class imbalance\n",
    "model_lgb = lgb.LGBMClassifier(class_weight='balanced', random_state=42)\n",
    "\n",
    "# Stratified K-Fold Cross-Validation\n",
    "skf = StratifiedKFold(n_splits=5, shuffle=True, random_state=42)\n",
    "\n",
    "# Define the scoring metric\n",
    "scoring = make_scorer(f1_score, pos_label=True)\n",
    "\n",
    "# Perform cross-validation\n",
    "cv_scores_lgb = cross_val_score(model_lgb, X_train_scaled, y, cv=skf, scoring=scoring, n_jobs=-1)\n",
    "\n",
    "# Print the results\n",
    "print(f\"LightGBM - Cross-Validated F1 Scores: {cv_scores_lgb}\")\n",
    "print(f\"LightGBM - Mean F1 Score: {cv_scores_lgb.mean():.4f}\")"
   ]
  },
  {
   "cell_type": "code",
   "execution_count": 61,
   "metadata": {},
   "outputs": [
    {
     "data": {
      "image/png": "[encoded data removed]",
      "text/plain": [
       "<Figure size 640x480 with 1 Axes>"
      ]
     },
     "metadata": {},
     "output_type": "display_data"
    }
   ],
   "source": [
    "# Confussion matrix\n",
    "# Compute the confusion matrix\n",
    "cm = confusion_matrix(y_val, y_pred)\n",
    "\n",
    "# Display confusion matrix\n",
    "disp = ConfusionMatrixDisplay(confusion_matrix=cm, display_labels=['False', 'True'])\n",
    "\n",
    "# Set the font to Times New Roman\n",
    "plt.rcParams['font.family'] = 'Times New Roman'\n",
    "\n",
    "# Plot the confusion matrix with a customized color map and additional styling\n",
    "disp.plot(cmap='Blues', values_format='d', colorbar=False)\n",
    "\n",
    "# Set the title and axis labels with customization\n",
    "plt.title(\"Random Forest Confusion Matrix\", fontsize=12)\n",
    "plt.xlabel(\"Predicted\", fontsize=11)\n",
    "plt.ylabel(\"Actual\", fontsize=11)\n",
    "\n",
    "# Add gridlines for clarity\n",
    "plt.grid(False)"
   ]
  },
  {
   "cell_type": "markdown",
   "metadata": {},
   "source": [
    "##### Precision Recall Curve"
   ]
  },
  {
   "cell_type": "code",
   "execution_count": 62,
   "metadata": {},
   "outputs": [
    {
     "data": {
      "image/png": "[encoded data removed]",
      "text/plain": [
       "<Figure size 640x480 with 1 Axes>"
      ]
     },
     "metadata": {},
     "output_type": "display_data"
    }
   ],
   "source": [
    "# Get predicted probabilities\n",
    "y_scores = rf.predict_proba(X_val)[:, 1]\n",
    "\n",
    "# Compute precision, recall, and thresholds\n",
    "precisions, recalls, thresholds = precision_recall_curve(y_val, y_scores)\n",
    "\n",
    "# Set the font to Times New Roman\n",
    "plt.rcParams['font.family'] = 'Times New Roman'\n",
    "\n",
    "# Plot Precision and Recall with different line colors\n",
    "plt.plot(thresholds, precisions[:-1], label='Precision', color='steelblue', linewidth=2)\n",
    "plt.plot(thresholds, recalls[:-1], label='Recall', color='darkorange', linewidth=2)\n",
    "\n",
    "# Add labels, title, and legend\n",
    "plt.xlabel('Threshold', fontsize=11)\n",
    "plt.ylabel('Score', fontsize=11)\n",
    "plt.title('Precision-Recall vs Threshold', fontsize=12)\n",
    "plt.legend()\n",
    "\n",
    "# Show grid for better readability\n",
    "plt.grid(True, linestyle='--', alpha=0.7)\n",
    "\n",
    "# Show the plot\n",
    "plt.tight_layout()\n",
    "plt.show()"
   ]
  },
  {
   "cell_type": "code",
   "execution_count": 63,
   "metadata": {},
   "outputs": [
    {
     "name": "stdout",
     "output_type": "stream",
     "text": [
      "Classification Report:\n",
      "               precision    recall  f1-score   support\n",
      "\n",
      "       False       0.82      0.94      0.88     69083\n",
      "        True       0.87      0.67      0.76     42560\n",
      "\n",
      "    accuracy                           0.84    111643\n",
      "   macro avg       0.85      0.80      0.82    111643\n",
      "weighted avg       0.84      0.84      0.83    111643\n",
      "\n",
      "ROC AUC Score: 0.8038\n"
     ]
    }
   ],
   "source": [
    "# Print classification report\n",
    "print(\"Classification Report:\\n\", classification_report(y_val, y_pred))\n",
    "\n",
    "# Print ROC AUC score\n",
    "print(f\"ROC AUC Score: {roc_auc_score(y_val, y_pred):.4f}\")"
   ]
  },
  {
   "cell_type": "code",
   "execution_count": 64,
   "metadata": {},
   "outputs": [
    {
     "name": "stdout",
     "output_type": "stream",
     "text": [
      "Specificity (True Negative Rate): 0.94\n",
      "Sensitivity (Recall / True Positive Rate): 0.67\n"
     ]
    }
   ],
   "source": [
    "tn, fp, fn, tp = cm.ravel()\n",
    "\n",
    "specificity = tn / (tn + fp)\n",
    "sensitivity = tp / (tp + fn)\n",
    "\n",
    "print(f\"Specificity (True Negative Rate): {specificity:.2f}\")\n",
    "print(f\"Sensitivity (Recall / True Positive Rate): {sensitivity:.2f}\")"
   ]
  },
  {
   "cell_type": "code",
   "execution_count": 66,
   "metadata": {},
   "outputs": [
    {
     "data": {
      "image/png": "[encoded data removed]",
      "text/plain": [
       "<Figure size 800x600 with 1 Axes>"
      ]
     },
     "metadata": {},
     "output_type": "display_data"
    }
   ],
   "source": [
    "from sklearn.metrics import roc_curve, auc\n",
    "\n",
    "# ROC and AUC Curve\n",
    "fpr, tpr, thresholds = roc_curve(y_val, y_scores)\n",
    "roc_auc = auc(fpr, tpr)\n",
    "\n",
    "plt.figure(figsize=(8, 6))\n",
    "plt.plot(fpr, tpr, color='darkorange', lw=2, label=f'ROC curve (area = {roc_auc:.2f})')\n",
    "plt.plot([0, 1], [0, 1], color='navy', lw=2, linestyle='--')\n",
    "plt.xlabel('False Positive Rate')\n",
    "plt.ylabel('True Positive Rate (Recall)')\n",
    "plt.title('Receiver Operating Characteristic')\n",
    "plt.legend(loc=\"lower right\")\n",
    "plt.show()"
   ]
  },
  {
   "cell_type": "code",
   "execution_count": 67,
   "metadata": {},
   "outputs": [
    {
     "data": {
      "image/png": "[encoded data removed]",
      "text/plain": [
       "<Figure size 800x600 with 1 Axes>"
      ]
     },
     "metadata": {},
     "output_type": "display_data"
    }
   ],
   "source": [
    "# Precision-Recall Curve\n",
    "\n",
    "precision, recall, thresholds = precision_recall_curve(y_val, y_scores)\n",
    "average_precision = average_precision_score(y_val, y_scores)\n",
    "\n",
    "plt.figure(figsize=(8, 6))\n",
    "plt.plot(recall, precision, lw=2, label=f'AP = {average_precision:.2f}')\n",
    "plt.xlabel('Recall')\n",
    "plt.ylabel('Precision')\n",
    "plt.title('Precision-Recall Curve')\n",
    "plt.legend(loc=\"lower left\")\n",
    "plt.show()"
   ]
  }
 ],
 "metadata": {
  "kernelspec": {
   "display_name": "Python 3",
   "language": "python",
   "name": "python3"
  },
  "language_info": {
   "codemirror_mode": {
    "name": "ipython",
    "version": 3
   },
   "file_extension": ".py",
   "mimetype": "text/x-python",
   "name": "python",
   "nbconvert_exporter": "python",
   "pygments_lexer": "ipython3",
   "version": "3.12.7"
  }
 },
 "nbformat": 4,
 "nbformat_minor": 2
}
